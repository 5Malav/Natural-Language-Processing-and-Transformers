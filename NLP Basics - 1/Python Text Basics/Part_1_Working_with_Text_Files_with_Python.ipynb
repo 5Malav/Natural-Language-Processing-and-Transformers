{
  "nbformat": 4,
  "nbformat_minor": 0,
  "metadata": {
    "colab": {
      "provenance": []
    },
    "kernelspec": {
      "name": "python3",
      "display_name": "Python 3"
    },
    "language_info": {
      "name": "python"
    }
  },
  "cells": [
    {
      "cell_type": "markdown",
      "source": [
        "# Working with Text Files"
      ],
      "metadata": {
        "id": "0JUv7gM9LHL0"
      }
    },
    {
      "cell_type": "code",
      "execution_count": 658,
      "metadata": {
        "id": "JsfYQkxgZHQX",
        "colab": {
          "base_uri": "https://localhost:8080/"
        },
        "outputId": "ec5808ce-9038-4764-f456-b656219c06d3"
      },
      "outputs": [
        {
          "output_type": "stream",
          "name": "stdout",
          "text": [
            "MY Mother name is Maya\n"
          ]
        }
      ],
      "source": [
        "# Old way of printing text\n",
        "\n",
        "person = \"Maya\"\n",
        "\n",
        "print(\"MY Mother name is {}\".format(person))"
      ]
    },
    {
      "cell_type": "code",
      "source": [
        "# Let's try new way.\n",
        "\n",
        "# Formatted string literals or f-string literals for short.\n",
        "\n",
        "print(f\"My mother name is {person}\")\n",
        "\n",
        "# If we forget to add f before \"text\" then it will print\n",
        "# literally text.\n"
      ],
      "metadata": {
        "id": "jCtsa19rZKMr",
        "colab": {
          "base_uri": "https://localhost:8080/"
        },
        "outputId": "6bd944de-59a3-4eac-c29a-3f062c8950e0"
      },
      "execution_count": 659,
      "outputs": [
        {
          "output_type": "stream",
          "name": "stdout",
          "text": [
            "My mother name is Maya\n"
          ]
        }
      ]
    },
    {
      "cell_type": "code",
      "source": [
        "d = {\"a\":123,\"b\":456}\n",
        "\n",
        "print(f\"my number is {d['a']}\")\n",
        "\n"
      ],
      "metadata": {
        "id": "v50l0oDfZKPF",
        "colab": {
          "base_uri": "https://localhost:8080/"
        },
        "outputId": "c035f8c9-faa9-4286-a592-82ee54f43207"
      },
      "execution_count": 660,
      "outputs": [
        {
          "output_type": "stream",
          "name": "stdout",
          "text": [
            "my number is 123\n"
          ]
        }
      ]
    },
    {
      "cell_type": "code",
      "source": [
        "ls = [1,2,3,4,5]\n",
        "\n",
        "print(f\"my number is {ls[0]}\")"
      ],
      "metadata": {
        "id": "j_qJgMLWZKRt",
        "colab": {
          "base_uri": "https://localhost:8080/"
        },
        "outputId": "21bceade-e433-4d2e-82e2-50c6f9e43a2b"
      },
      "execution_count": 661,
      "outputs": [
        {
          "output_type": "stream",
          "name": "stdout",
          "text": [
            "my number is 1\n"
          ]
        }
      ]
    },
    {
      "cell_type": "code",
      "source": [
        "# Alignment and padding\n",
        "\n",
        "# When we are dealing with multiple items that we are\n",
        "# trying to print.\n",
        "\n",
        "library = [\n",
        "    ('Author','Topic','Pages'),\n",
        "    ('Twain','Rafting',601),\n",
        "    ('Feynman','Physics',95),\n",
        "    ('Hamilton','Mythology',144)\n",
        "]\n",
        "print(library)\n"
      ],
      "metadata": {
        "id": "S3AmjCpvZKUU",
        "colab": {
          "base_uri": "https://localhost:8080/"
        },
        "outputId": "7f0a05b5-f47f-482a-b02d-38b5f7f100d7"
      },
      "execution_count": 662,
      "outputs": [
        {
          "output_type": "stream",
          "name": "stdout",
          "text": [
            "[('Author', 'Topic', 'Pages'), ('Twain', 'Rafting', 601), ('Feynman', 'Physics', 95), ('Hamilton', 'Mythology', 144)]\n"
          ]
        }
      ]
    },
    {
      "cell_type": "code",
      "source": [
        "for book in library:\n",
        "    print(book)"
      ],
      "metadata": {
        "id": "aDGmDJZPZKW9",
        "colab": {
          "base_uri": "https://localhost:8080/"
        },
        "outputId": "7daf3cfb-e115-4536-df80-c8a7e1169bf7"
      },
      "execution_count": 663,
      "outputs": [
        {
          "output_type": "stream",
          "name": "stdout",
          "text": [
            "('Author', 'Topic', 'Pages')\n",
            "('Twain', 'Rafting', 601)\n",
            "('Feynman', 'Physics', 95)\n",
            "('Hamilton', 'Mythology', 144)\n"
          ]
        }
      ]
    },
    {
      "cell_type": "code",
      "source": [
        "for book in library:\n",
        "    print(f\"Author is {book[0]}\")"
      ],
      "metadata": {
        "id": "7KBZnn2KZKZj",
        "colab": {
          "base_uri": "https://localhost:8080/"
        },
        "outputId": "311e8bf4-a565-4ebe-9470-37f810cb8304"
      },
      "execution_count": 664,
      "outputs": [
        {
          "output_type": "stream",
          "name": "stdout",
          "text": [
            "Author is Author\n",
            "Author is Twain\n",
            "Author is Feynman\n",
            "Author is Hamilton\n"
          ]
        }
      ]
    },
    {
      "cell_type": "code",
      "source": [
        "# Tuple unpacking\n",
        "for Author,Topic,Pages in library:\n",
        "\n",
        "    print(f\"{Author}    {Topic}        {Pages}\")"
      ],
      "metadata": {
        "id": "UhTvh1KSZKcC",
        "colab": {
          "base_uri": "https://localhost:8080/"
        },
        "outputId": "42077c56-7f9e-4206-a2ba-faa2cf4170cc"
      },
      "execution_count": 665,
      "outputs": [
        {
          "output_type": "stream",
          "name": "stdout",
          "text": [
            "Author    Topic        Pages\n",
            "Twain    Rafting        601\n",
            "Feynman    Physics        95\n",
            "Hamilton    Mythology        144\n"
          ]
        }
      ]
    },
    {
      "cell_type": "code",
      "source": [
        "\"\"\"\n",
        "From the above notice we can notice that it looks like formatting\n",
        "is slightly sloppy here and that's because we essentially did\n",
        "not use any sort of padding or any sort of space.\n",
        "\n",
        "So first thing we can do is we can pass an argument for a\n",
        "minimuim width.\n",
        "\n",
        "Essentially a minimum width that each of these so called columns\n",
        "could take\n",
        "Syntax :- {column name:{10}} 10 is minimum width\n",
        "\n",
        "we can also use like {column name:>{10}} if name is too long\n",
        "\"\"\"\n",
        "\n",
        "library = [\n",
        "    ('Author','Topic','Pages'),\n",
        "    ('Twain','Rafting in river',601),\n",
        "    ('Feynman','Physics',95),\n",
        "    ('Hamilton','Mythology',144)\n",
        "]\n",
        "for i in library:\n",
        "    print(i)\n",
        "\n",
        "print(\" \")\n",
        "\n",
        "for Author,Topic,Pages in library:\n",
        "\n",
        "    print(f\"{Author:{10}}{Topic:{19}}{Pages:>{4}}\")\n",
        "\n",
        "#>4 means that 4 spaces before pages entries\n",
        "\n",
        "#to check  we can add '-' before number\n",
        "\n",
        "print(\"\")\n",
        "\n",
        "for Author,Topic,Pages in library:\n",
        "\n",
        "    print(f\"{Author:{10}}{Topic:{19}}{Pages:->{10}}\")\n"
      ],
      "metadata": {
        "id": "osQSpQkaZKez",
        "colab": {
          "base_uri": "https://localhost:8080/"
        },
        "outputId": "e4a3ce23-9aa6-4ff4-b039-3d6b17ba09db"
      },
      "execution_count": 666,
      "outputs": [
        {
          "output_type": "stream",
          "name": "stdout",
          "text": [
            "('Author', 'Topic', 'Pages')\n",
            "('Twain', 'Rafting in river', 601)\n",
            "('Feynman', 'Physics', 95)\n",
            "('Hamilton', 'Mythology', 144)\n",
            " \n",
            "Author    Topic              Pages\n",
            "Twain     Rafting in river    601\n",
            "Feynman   Physics              95\n",
            "Hamilton  Mythology           144\n",
            "\n",
            "Author    Topic              -----Pages\n",
            "Twain     Rafting in river   -------601\n",
            "Feynman   Physics            --------95\n",
            "Hamilton  Mythology          -------144\n"
          ]
        }
      ]
    },
    {
      "cell_type": "code",
      "source": [
        "# Date formatting\n",
        "\n",
        "from datetime import datetime\n"
      ],
      "metadata": {
        "id": "l2LeFn3xZKhY"
      },
      "execution_count": 667,
      "outputs": []
    },
    {
      "cell_type": "code",
      "source": [
        "today = datetime(year=2024,month=11,day=11)\n",
        "\n",
        "\n",
        "print(f\"{today}\")\n",
        "\n"
      ],
      "metadata": {
        "id": "WlDdoUbBZKj3",
        "colab": {
          "base_uri": "https://localhost:8080/"
        },
        "outputId": "3d9a85f4-b0fb-422f-d76d-a65480866a46"
      },
      "execution_count": 668,
      "outputs": [
        {
          "output_type": "stream",
          "name": "stdout",
          "text": [
            "2024-11-11 00:00:00\n"
          ]
        }
      ]
    },
    {
      "cell_type": "code",
      "source": [
        "\n",
        "print(f\"{today:%B , %d , %Y}\")\n",
        "\n"
      ],
      "metadata": {
        "id": "VruoBpxXZKm0",
        "colab": {
          "base_uri": "https://localhost:8080/"
        },
        "outputId": "7cbf551f-2d69-402e-ea83-8c4d3864c6ee"
      },
      "execution_count": 669,
      "outputs": [
        {
          "output_type": "stream",
          "name": "stdout",
          "text": [
            "November , 11 , 2024\n"
          ]
        }
      ]
    },
    {
      "cell_type": "code",
      "source": [
        "# Create a Text file.\n",
        "\n",
        "%%writefile maya.txt\n",
        "\n",
        "Hello My name is Malav.\n",
        "I am Machine Learning engineer.\n",
        "\n"
      ],
      "metadata": {
        "id": "w_kcEzOHZKpI",
        "colab": {
          "base_uri": "https://localhost:8080/"
        },
        "outputId": "bdec7648-ce9b-4831-ac1a-83d0c1b8060a"
      },
      "execution_count": 670,
      "outputs": [
        {
          "output_type": "stream",
          "name": "stdout",
          "text": [
            "Writing maya.txt\n"
          ]
        }
      ]
    },
    {
      "cell_type": "code",
      "source": [
        "# Open text file.\n",
        "\n",
        "my_file = open(\"/content/maya.txt\")\n",
        "\n",
        "my_file\n"
      ],
      "metadata": {
        "id": "MoqElVYcZKrv",
        "colab": {
          "base_uri": "https://localhost:8080/"
        },
        "outputId": "3b920e0c-b42c-4428-928b-349b6abdc921"
      },
      "execution_count": 671,
      "outputs": [
        {
          "output_type": "execute_result",
          "data": {
            "text/plain": [
              "<_io.TextIOWrapper name='/content/maya.txt' mode='r' encoding='UTF-8'>"
            ]
          },
          "metadata": {},
          "execution_count": 671
        }
      ]
    },
    {
      "cell_type": "code",
      "source": [
        "my_file.read()\n",
        "\n",
        "# we can't call read() mutiple time in Python.\n",
        "# Essentially what's going on is you have a cursor\n",
        "# at the very beginning of a text file and after you call\n",
        "# .read() that cursor goes throughout the entire text file\n",
        "# and return the entire file as string as can see in output\n",
        "# and the cursor is sitting at the end of the file.\n",
        "# which means when you call read again it's just going to\n",
        "# read from cursor all the way to the end of the file,\n",
        "# which in this case since .read() already called , there is\n",
        "# nothing there its just and empty string.\n"
      ],
      "metadata": {
        "id": "kH4InwbxZKuN",
        "colab": {
          "base_uri": "https://localhost:8080/",
          "height": 36
        },
        "outputId": "9310a508-e433-4f56-a909-d1a2e97f982e"
      },
      "execution_count": 672,
      "outputs": [
        {
          "output_type": "execute_result",
          "data": {
            "text/plain": [
              "'\\nHello My name is Malav.\\nI am Machine Learning engineer.\\n\\n'"
            ],
            "application/vnd.google.colaboratory.intrinsic+json": {
              "type": "string"
            }
          },
          "metadata": {},
          "execution_count": 672
        }
      ]
    },
    {
      "cell_type": "code",
      "source": [
        "my_file.read()"
      ],
      "metadata": {
        "id": "0vHX7zfbZOOz",
        "colab": {
          "base_uri": "https://localhost:8080/",
          "height": 36
        },
        "outputId": "225a1b49-63bd-4f87-ea78-d5b11a17b3e3"
      },
      "execution_count": 673,
      "outputs": [
        {
          "output_type": "execute_result",
          "data": {
            "text/plain": [
              "''"
            ],
            "application/vnd.google.colaboratory.intrinsic+json": {
              "type": "string"
            }
          },
          "metadata": {},
          "execution_count": 673
        }
      ]
    },
    {
      "cell_type": "code",
      "source": [
        "# In order to fix this what we need to do is call my_file.seek\n",
        "# and then you can change the cursor to index position zero\n",
        "# which essentially resets the cursor and it will report back\n",
        "# to zero position meaning cursor is now at beginning at the\n",
        "# text file and .read() can be called again.\n",
        "\n",
        "my_file.seek(0)\n",
        "\n",
        "my_file.read()\n"
      ],
      "metadata": {
        "id": "AzLo3F2wZOR2",
        "colab": {
          "base_uri": "https://localhost:8080/",
          "height": 36
        },
        "outputId": "eed84b88-184e-4b81-a661-bcd65c5b55d6"
      },
      "execution_count": 674,
      "outputs": [
        {
          "output_type": "execute_result",
          "data": {
            "text/plain": [
              "'\\nHello My name is Malav.\\nI am Machine Learning engineer.\\n\\n'"
            ],
            "application/vnd.google.colaboratory.intrinsic+json": {
              "type": "string"
            }
          },
          "metadata": {},
          "execution_count": 674
        }
      ]
    },
    {
      "cell_type": "code",
      "source": [
        "my_file.seek(0)\n",
        "data= my_file.read()\n",
        "print(data) # to print data in different lines.\n",
        "\n"
      ],
      "metadata": {
        "id": "IXgpV_ysZOUB",
        "colab": {
          "base_uri": "https://localhost:8080/"
        },
        "outputId": "95d58e20-86a5-41ab-e287-82a1f3472965"
      },
      "execution_count": 675,
      "outputs": [
        {
          "output_type": "stream",
          "name": "stdout",
          "text": [
            "\n",
            "Hello My name is Malav.\n",
            "I am Machine Learning engineer.\n",
            "\n",
            "\n"
          ]
        }
      ]
    },
    {
      "cell_type": "code",
      "source": [
        "# Always close a file once done working with it.\n",
        "\n",
        "my_file.close()\n",
        "\n",
        "# The reason to close file is that in case if trying to opening\n",
        "# that text file for another program if file is still open\n",
        "# in Python it may cause issues with operating system.\n",
        "\n",
        "# if we try to pull out USB drive its says\n",
        "# hey some files are already in use.\n",
        "\n"
      ],
      "metadata": {
        "id": "icManDpEZOWc"
      },
      "execution_count": 676,
      "outputs": []
    },
    {
      "cell_type": "code",
      "source": [
        "# To read each line as separate item\n",
        "\n",
        "my_file=open(\"/content/maya.txt\")\n",
        "\n",
        "my_file.readlines()"
      ],
      "metadata": {
        "colab": {
          "base_uri": "https://localhost:8080/"
        },
        "id": "MxK2NfKpKdkM",
        "outputId": "90509d18-1a12-4181-f14d-88ab24dd593e"
      },
      "execution_count": 677,
      "outputs": [
        {
          "output_type": "execute_result",
          "data": {
            "text/plain": [
              "['\\n', 'Hello My name is Malav.\\n', 'I am Machine Learning engineer.\\n', '\\n']"
            ]
          },
          "metadata": {},
          "execution_count": 677
        }
      ]
    },
    {
      "cell_type": "code",
      "source": [
        "my_file.seek(0)"
      ],
      "metadata": {
        "colab": {
          "base_uri": "https://localhost:8080/"
        },
        "id": "bXNZKjFIKdh8",
        "outputId": "bb594a5d-eeff-49ac-f96d-a7f564a26a94"
      },
      "execution_count": 678,
      "outputs": [
        {
          "output_type": "execute_result",
          "data": {
            "text/plain": [
              "0"
            ]
          },
          "metadata": {},
          "execution_count": 678
        }
      ]
    },
    {
      "cell_type": "code",
      "source": [
        "my_lines = my_file.readlines()\n",
        "my_lines"
      ],
      "metadata": {
        "colab": {
          "base_uri": "https://localhost:8080/"
        },
        "id": "oDbfApyyKdfi",
        "outputId": "05d1c2e3-7395-4a1b-8257-1d31f361e035"
      },
      "execution_count": 679,
      "outputs": [
        {
          "output_type": "execute_result",
          "data": {
            "text/plain": [
              "['\\n', 'Hello My name is Malav.\\n', 'I am Machine Learning engineer.\\n', '\\n']"
            ]
          },
          "metadata": {},
          "execution_count": 679
        }
      ]
    },
    {
      "cell_type": "code",
      "source": [
        "# Iterate through my_lines\n",
        "\n",
        "for line in my_lines:\n",
        "    print(line)"
      ],
      "metadata": {
        "colab": {
          "base_uri": "https://localhost:8080/"
        },
        "id": "1E-SHTG_KddL",
        "outputId": "8363a317-4d2c-4305-8383-0d015e9c454d"
      },
      "execution_count": 680,
      "outputs": [
        {
          "output_type": "stream",
          "name": "stdout",
          "text": [
            "\n",
            "\n",
            "Hello My name is Malav.\n",
            "\n",
            "I am Machine Learning engineer.\n",
            "\n",
            "\n",
            "\n"
          ]
        }
      ]
    },
    {
      "cell_type": "code",
      "source": [
        "# By default open function only allows us to read the file\n",
        "# and that's really for safetly because by default we probably\n",
        "# don't want to just have any user have write access to your\n",
        "# text files otherwise they will be able to overwrite anything.\n",
        "\n"
      ],
      "metadata": {
        "id": "OgNyWAyYKdak"
      },
      "execution_count": 681,
      "outputs": []
    },
    {
      "cell_type": "code",
      "source": [
        "# Let's learn how to write to file and then appending to a file.\n",
        "# w+ allows both read and write to a file.\n",
        "\n",
        "# w+ should be used with caustion.\n",
        "# If we open a file with w or w+ it performs a trucation\n",
        "# on the original, that means anything in the original file\n",
        "# is actually overwritten and deleted over.\n",
        "\n",
        "my_file= open(\"/content/maya.text\",mode=\"w+\")\n",
        "\n",
        "\n"
      ],
      "metadata": {
        "id": "XSaMIXIsK7V5"
      },
      "execution_count": 682,
      "outputs": []
    },
    {
      "cell_type": "code",
      "source": [
        "my_file.seek(0)\n",
        "my_file.read()"
      ],
      "metadata": {
        "colab": {
          "base_uri": "https://localhost:8080/",
          "height": 36
        },
        "id": "qYQigugzK7Tk",
        "outputId": "45104a5b-1a47-4800-ccdd-3628bfe090b2"
      },
      "execution_count": 683,
      "outputs": [
        {
          "output_type": "execute_result",
          "data": {
            "text/plain": [
              "''"
            ],
            "application/vnd.google.colaboratory.intrinsic+json": {
              "type": "string"
            }
          },
          "metadata": {},
          "execution_count": 683
        }
      ]
    },
    {
      "cell_type": "code",
      "source": [
        "# output is empty string.\n",
        "# because by opening with w+ we are not overriding the\n",
        "# original maya.txt file.\n",
        "# So that's why w/w+ should be used with caution.\n",
        "# only should be used when itent to completely overwrite the\n",
        "# original contents of the file.\n",
        "\n",
        "my_file.write(\"My father name is Mrugesh\")\n"
      ],
      "metadata": {
        "colab": {
          "base_uri": "https://localhost:8080/"
        },
        "id": "DfNYnhTfK7Qs",
        "outputId": "5d61adec-7019-4a98-df5b-453520925f4d"
      },
      "execution_count": 684,
      "outputs": [
        {
          "output_type": "execute_result",
          "data": {
            "text/plain": [
              "25"
            ]
          },
          "metadata": {},
          "execution_count": 684
        }
      ]
    },
    {
      "cell_type": "code",
      "source": [
        "my_file.seek(0)\n",
        "my_file.read()\n"
      ],
      "metadata": {
        "colab": {
          "base_uri": "https://localhost:8080/",
          "height": 36
        },
        "id": "ui-ulWzXK7OT",
        "outputId": "175d0ce2-0b24-479b-a156-05b21e102c2c"
      },
      "execution_count": 685,
      "outputs": [
        {
          "output_type": "execute_result",
          "data": {
            "text/plain": [
              "'My father name is Mrugesh'"
            ],
            "application/vnd.google.colaboratory.intrinsic+json": {
              "type": "string"
            }
          },
          "metadata": {},
          "execution_count": 685
        }
      ]
    },
    {
      "cell_type": "code",
      "source": [
        "\n",
        "my_file.close()\n"
      ],
      "metadata": {
        "id": "SzMfXRViKdXj"
      },
      "execution_count": 686,
      "outputs": []
    },
    {
      "cell_type": "code",
      "source": [
        "# w/w+ overwrite and delete completely\n",
        "# but in case if we don't want to do that\n",
        "# we can use an append method.\n",
        "# Append method keep old information and then allow you to\n",
        "# add in new lines.\n",
        "# if the file does not exist append method will create new file\n",
        "# as well.\n",
        "\n",
        "my_file=open(\"/content/maya.txt\",\"a+\")\n",
        "\n"
      ],
      "metadata": {
        "id": "5jmKvACVO1bu"
      },
      "execution_count": 687,
      "outputs": []
    },
    {
      "cell_type": "code",
      "source": [
        "new_file = open(\"Mrugesh.txt\",\"a+\")\n",
        "# created new file name mrugesh.text"
      ],
      "metadata": {
        "id": "7YEbO8mpO1ZV"
      },
      "execution_count": 688,
      "outputs": []
    },
    {
      "cell_type": "code",
      "source": [
        "new_file.write(\"I will get a job as AI engineer in 6 months\")\n"
      ],
      "metadata": {
        "colab": {
          "base_uri": "https://localhost:8080/"
        },
        "id": "8Qr9OvwGO1Wk",
        "outputId": "3bba860c-9a3d-42f2-c1cc-56ccff18d3d8"
      },
      "execution_count": 689,
      "outputs": [
        {
          "output_type": "execute_result",
          "data": {
            "text/plain": [
              "43"
            ]
          },
          "metadata": {},
          "execution_count": 689
        }
      ]
    },
    {
      "cell_type": "code",
      "source": [
        "new_file.seek(0)\n"
      ],
      "metadata": {
        "colab": {
          "base_uri": "https://localhost:8080/"
        },
        "id": "qWaKlCbwQccy",
        "outputId": "2eb0076d-d851-443f-fd78-d8c6ad357788"
      },
      "execution_count": 690,
      "outputs": [
        {
          "output_type": "execute_result",
          "data": {
            "text/plain": [
              "0"
            ]
          },
          "metadata": {},
          "execution_count": 690
        }
      ]
    },
    {
      "cell_type": "code",
      "source": [
        "new_file.read()"
      ],
      "metadata": {
        "colab": {
          "base_uri": "https://localhost:8080/",
          "height": 36
        },
        "id": "ee1Y8VCtQcaM",
        "outputId": "a41ecdf5-2d84-49d4-842b-597c25183c9f"
      },
      "execution_count": 691,
      "outputs": [
        {
          "output_type": "execute_result",
          "data": {
            "text/plain": [
              "'I will get a job as AI engineer in 6 months'"
            ],
            "application/vnd.google.colaboratory.intrinsic+json": {
              "type": "string"
            }
          },
          "metadata": {},
          "execution_count": 691
        }
      ]
    },
    {
      "cell_type": "code",
      "source": [
        "new_file.close()\n"
      ],
      "metadata": {
        "id": "m6Dn6krCQcXw"
      },
      "execution_count": 692,
      "outputs": []
    },
    {
      "cell_type": "code",
      "source": [
        "my_file=open(\"/content/Mrugesh.txt\",'a+')\n"
      ],
      "metadata": {
        "id": "QP2y5XvqQcU7"
      },
      "execution_count": 693,
      "outputs": []
    },
    {
      "cell_type": "code",
      "source": [
        "my_file.write(',I will learn NLP and Computer vision')"
      ],
      "metadata": {
        "colab": {
          "base_uri": "https://localhost:8080/"
        },
        "id": "VTnEIknERb6O",
        "outputId": "e7e17b11-ad9d-412b-ba1a-90f49c758aaa"
      },
      "execution_count": 694,
      "outputs": [
        {
          "output_type": "execute_result",
          "data": {
            "text/plain": [
              "37"
            ]
          },
          "metadata": {},
          "execution_count": 694
        }
      ]
    },
    {
      "cell_type": "code",
      "source": [
        "my_file.seek(0)"
      ],
      "metadata": {
        "colab": {
          "base_uri": "https://localhost:8080/"
        },
        "id": "q5tw1F6nRb4B",
        "outputId": "73152e79-c90f-4a3d-9d2f-f498c8078646"
      },
      "execution_count": 695,
      "outputs": [
        {
          "output_type": "execute_result",
          "data": {
            "text/plain": [
              "0"
            ]
          },
          "metadata": {},
          "execution_count": 695
        }
      ]
    },
    {
      "cell_type": "code",
      "source": [
        "my_file.read()"
      ],
      "metadata": {
        "colab": {
          "base_uri": "https://localhost:8080/",
          "height": 36
        },
        "id": "_BxAYDqDRb1U",
        "outputId": "e78f38fd-bce5-4f10-d660-b67f727fa9b5"
      },
      "execution_count": 696,
      "outputs": [
        {
          "output_type": "execute_result",
          "data": {
            "text/plain": [
              "'I will get a job as AI engineer in 6 months,I will learn NLP and Computer vision'"
            ],
            "application/vnd.google.colaboratory.intrinsic+json": {
              "type": "string"
            }
          },
          "metadata": {},
          "execution_count": 696
        }
      ]
    },
    {
      "cell_type": "code",
      "source": [
        "my_file.close()"
      ],
      "metadata": {
        "id": "1LhzQwUUSp9A"
      },
      "execution_count": 697,
      "outputs": []
    },
    {
      "cell_type": "code",
      "source": [
        "# Conetext manager to automatically close the file.\n",
        "\n",
        "with open(\"/content/Mrugesh.txt\",'r') as my_new_file:\n",
        "    my_new_variable =my_new_file.readlines()\n",
        "\n"
      ],
      "metadata": {
        "id": "XSO21hUBRbZ6"
      },
      "execution_count": 698,
      "outputs": []
    },
    {
      "cell_type": "code",
      "source": [
        "# above code will automatically close file.\n"
      ],
      "metadata": {
        "id": "kvGoGs1STOqP"
      },
      "execution_count": 700,
      "outputs": []
    },
    {
      "cell_type": "code",
      "source": [
        "my_new_variable"
      ],
      "metadata": {
        "colab": {
          "base_uri": "https://localhost:8080/"
        },
        "id": "WwXsAF9dRbXc",
        "outputId": "108ab92b-7f9e-4a3a-b314-bf728e39dbcf"
      },
      "execution_count": 699,
      "outputs": [
        {
          "output_type": "execute_result",
          "data": {
            "text/plain": [
              "['I will get a job as AI engineer in 6 months,I will learn NLP and Computer vision']"
            ]
          },
          "metadata": {},
          "execution_count": 699
        }
      ]
    },
    {
      "cell_type": "code",
      "source": [],
      "metadata": {
        "id": "6srAOxGeZObj"
      },
      "execution_count": 699,
      "outputs": []
    },
    {
      "cell_type": "code",
      "source": [],
      "metadata": {
        "id": "jdCq0iYxZOeI"
      },
      "execution_count": 699,
      "outputs": []
    }
  ]
}