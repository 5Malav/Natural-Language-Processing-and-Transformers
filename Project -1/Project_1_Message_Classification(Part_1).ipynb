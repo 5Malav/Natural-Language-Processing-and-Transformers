{
  "nbformat": 4,
  "nbformat_minor": 0,
  "metadata": {
    "colab": {
      "provenance": []
    },
    "kernelspec": {
      "name": "python3",
      "display_name": "Python 3"
    },
    "language_info": {
      "name": "python"
    }
  },
  "cells": [
    {
      "cell_type": "code",
      "source": [],
      "metadata": {
        "id": "H7nzkFGyNIUY"
      },
      "execution_count": null,
      "outputs": []
    },
    {
      "cell_type": "code",
      "source": [
        "import numpy as np\n",
        "import pandas as pd\n",
        "\n",
        "import matplotlib.pyplot as plt\n",
        "%matplotlib inline\n",
        "\n",
        "from sklearn.model_selection import train_test_split\n",
        "\n",
        "from sklearn.linear_model import LogisticRegression\n",
        "from sklearn.naive_bayes import MultinomialNB\n",
        "from sklearn.svm import SVC\n",
        "\n",
        "from sklearn import metrics\n",
        "\n"
      ],
      "metadata": {
        "id": "BKYYhF0aNIJt"
      },
      "execution_count": null,
      "outputs": []
    },
    {
      "cell_type": "code",
      "source": [
        "data=pd.read_csv(\"/content/smsspamcollection.tsv\",sep=\"\\t\")\n",
        "data.head(10)\n",
        "\n"
      ],
      "metadata": {
        "id": "ZHJrDD37NIGJ"
      },
      "execution_count": null,
      "outputs": []
    },
    {
      "cell_type": "code",
      "source": [
        "# Check for missing data\n",
        "\n",
        "data.isnull().sum()"
      ],
      "metadata": {
        "id": "TxjzfiLlNICv"
      },
      "execution_count": null,
      "outputs": []
    },
    {
      "cell_type": "code",
      "source": [
        "data.info()"
      ],
      "metadata": {
        "id": "pvCEYpjgNH_n"
      },
      "execution_count": null,
      "outputs": []
    },
    {
      "cell_type": "code",
      "source": [
        "# target column\n",
        "data['label'].value_counts()"
      ],
      "metadata": {
        "id": "n1wOHrZFNH9C"
      },
      "execution_count": null,
      "outputs": []
    },
    {
      "cell_type": "code",
      "source": [
        "plt.xscale('log')\n",
        "\n",
        "bins = 1.15**(np.arange(0,50))\n",
        "\n",
        "plt.hist(data[data['label']=='ham']['length'],bins=bins,alpha=0.8)\n",
        "\n",
        "plt.hist(data[data['label']=='spam']['length'],bins=bins,alpha=0.8)\n",
        "\n",
        "plt.legend(('ham','spam'))\n",
        "\n",
        "plt.show()\n"
      ],
      "metadata": {
        "id": "rWKDeIukNH6H"
      },
      "execution_count": null,
      "outputs": []
    },
    {
      "cell_type": "code",
      "source": [
        "# spam message length looks longer than ham text messages\n",
        "\n"
      ],
      "metadata": {
        "id": "PIyPoGodNH3N"
      },
      "execution_count": null,
      "outputs": []
    },
    {
      "cell_type": "code",
      "source": [
        "plt.xscale('log')\n",
        "\n",
        "bins = 1.15**(np.arange(0,50))\n",
        "\n",
        "plt.hist(data[data['label']=='ham']['punct'],bins=bins,alpha=0.8)\n",
        "\n",
        "plt.hist(data[data['label']=='spam']['punct'],bins=bins,alpha=0.8)\n",
        "\n",
        "plt.legend(('ham','spam'))\n",
        "\n",
        "plt.show()"
      ],
      "metadata": {
        "id": "3meQTuunNH0Y"
      },
      "execution_count": null,
      "outputs": []
    },
    {
      "cell_type": "code",
      "source": [
        "# spam tends to have higher range of values\n",
        "# spam messages tend to be longer of overall values.\n",
        "\n",
        "# ham has quite a large range of length.\n",
        "#\n",
        "\n"
      ],
      "metadata": {
        "id": "CXLCcy1ZR1OV"
      },
      "execution_count": null,
      "outputs": []
    },
    {
      "cell_type": "code",
      "source": [
        "# X feature data\n",
        "\n",
        "X = data[['length','punct']]\n",
        "\n",
        "# y is label\n",
        "\n",
        "y = data['label']\n",
        "\n",
        "print(X.head())\n",
        "\n",
        "print(\"\")\n",
        "\n",
        "print(y.head())"
      ],
      "metadata": {
        "id": "7KgH8myfR1K3"
      },
      "execution_count": null,
      "outputs": []
    },
    {
      "cell_type": "code",
      "source": [
        "\n",
        "X_train,X_test,y_train,y_test=train_test_split(X,y,test_size=0.30,\\\n",
        "random_state=42)\n",
        "\n"
      ],
      "metadata": {
        "id": "fKJBWtmbR1G7"
      },
      "execution_count": null,
      "outputs": []
    },
    {
      "cell_type": "code",
      "source": [
        "X_train.shape\n"
      ],
      "metadata": {
        "id": "4zqMkFgbNHxY"
      },
      "execution_count": null,
      "outputs": []
    },
    {
      "cell_type": "code",
      "source": [
        "X_test.shape"
      ],
      "metadata": {
        "id": "WcQo6JQkNHus"
      },
      "execution_count": null,
      "outputs": []
    },
    {
      "cell_type": "code",
      "source": [
        "y_train.shape"
      ],
      "metadata": {
        "id": "q4REMt-ENHri"
      },
      "execution_count": null,
      "outputs": []
    },
    {
      "cell_type": "code",
      "source": [
        "y_test.shape"
      ],
      "metadata": {
        "id": "MlARVoozNHoc"
      },
      "execution_count": null,
      "outputs": []
    },
    {
      "cell_type": "code",
      "source": [
        "logistic_model=LogisticRegression(solver='lbfgs')\n",
        "\n"
      ],
      "metadata": {
        "id": "P59--TE1TNKo"
      },
      "execution_count": null,
      "outputs": []
    },
    {
      "cell_type": "code",
      "source": [
        "logistic_model.fit(X_train,y_train)"
      ],
      "metadata": {
        "id": "VXtssCP1TNG9"
      },
      "execution_count": null,
      "outputs": []
    },
    {
      "cell_type": "code",
      "source": [
        "pred= logistic_model.predict(X_test)\n",
        "pred"
      ],
      "metadata": {
        "id": "jnhrWs2UTNDg"
      },
      "execution_count": null,
      "outputs": []
    },
    {
      "cell_type": "code",
      "source": [
        "cm = metrics.confusion_matrix(y_test,pred)\n",
        "cm"
      ],
      "metadata": {
        "id": "2f6cQUsvTMv1"
      },
      "execution_count": null,
      "outputs": []
    },
    {
      "cell_type": "code",
      "source": [
        "cm = pd.DataFrame(cm,index=['ham','spam'],columns=['ham','spam'])\n",
        "cm"
      ],
      "metadata": {
        "id": "eYUq2QQkcI0z"
      },
      "execution_count": null,
      "outputs": []
    },
    {
      "cell_type": "code",
      "source": [
        "report=metrics.classification_report(y_test,pred)\n",
        "report"
      ],
      "metadata": {
        "id": "oJkG2tFmcIxb"
      },
      "execution_count": null,
      "outputs": []
    },
    {
      "cell_type": "code",
      "source": [
        "report=metrics.classification_report(y_test,pred,output_dict=True)\n",
        "report"
      ],
      "metadata": {
        "id": "OMjVuE8-kJo3"
      },
      "execution_count": null,
      "outputs": []
    },
    {
      "cell_type": "code",
      "source": [
        "report_1=pd.DataFrame(report).transpose()\n",
        "report_1"
      ],
      "metadata": {
        "id": "Jewmd-E7cIr4"
      },
      "execution_count": null,
      "outputs": []
    },
    {
      "cell_type": "code",
      "source": [
        "# For ham recall and precision is good.\n",
        "\n",
        "# For spam recall and precision is really low.\n",
        "\n",
        "# Overall model is good at detecting ham but poor when it comes to spam.\n",
        "\n",
        "# Model is 84.27% accurate\n",
        "\n"
      ],
      "metadata": {
        "id": "zEM1hG-okDB8"
      },
      "execution_count": null,
      "outputs": []
    },
    {
      "cell_type": "markdown",
      "source": [
        "# Naive Bayes"
      ],
      "metadata": {
        "id": "yVl9OV8zk53e"
      }
    },
    {
      "cell_type": "code",
      "source": [
        "navie_bayes_model=MultinomialNB()\n",
        "navie_bayes_model.fit(X_train,y_train)\n",
        "\n",
        "pred= navie_bayes_model.predict(X_test)\n",
        "print(pred)\n",
        "\n",
        "print(\" \")\n",
        "\n",
        "\n",
        "print(\" \")\n",
        "\n",
        "cm = pd.DataFrame(cm,index=['ham','spam'],columns=['ham','spam'])\n",
        "print(cm)\n",
        "\n",
        "print(\" \")\n",
        "\n",
        "report=metrics.classification_report(y_test,pred)\n",
        "print(report)\n",
        "\n",
        "\n"
      ],
      "metadata": {
        "id": "4Rsct0UWkxgI"
      },
      "execution_count": null,
      "outputs": []
    },
    {
      "cell_type": "code",
      "source": [
        "# For ham recall and precision is good.\n",
        "\n",
        "# For spam recall and precision is poor.\n",
        "# we are not able to identify any spam email.\n",
        "\n",
        "# Model is 86% accurate\n"
      ],
      "metadata": {
        "id": "_Br10Mo8kxdc"
      },
      "execution_count": null,
      "outputs": []
    },
    {
      "cell_type": "markdown",
      "source": [
        "# Support vector Classifier"
      ],
      "metadata": {
        "id": "plZXzgdCmU4N"
      }
    },
    {
      "cell_type": "code",
      "source": [
        "svc_model=SVC()\n",
        "svc_model.fit(X_train,y_train)\n",
        "\n",
        "pred= svc_model.predict(X_test)\n",
        "print(pred)\n",
        "\n",
        "print(\" \")\n",
        "\n",
        "\n",
        "print(\" \")\n",
        "\n",
        "cm = pd.DataFrame(cm,index=['ham','spam'],columns=['ham','spam'])\n",
        "print(cm)\n",
        "\n",
        "print(\" \")\n",
        "\n",
        "report=metrics.classification_report(y_test,pred)\n",
        "print(report)"
      ],
      "metadata": {
        "id": "npukCYyEmUq1"
      },
      "execution_count": null,
      "outputs": []
    },
    {
      "cell_type": "code",
      "source": [
        "# For ham recall and precision is good.\n",
        "\n",
        "# For spam recall and precision is better compare to\n",
        "# logistic regression and Naive bayes.\n",
        "\n",
        "# Using Support vector classifier we get better result\n",
        "# to identify spam and ham emails.\n",
        "\n",
        "# Model is 86% accurate"
      ],
      "metadata": {
        "id": "yWiC00PVkxbN"
      },
      "execution_count": null,
      "outputs": []
    },
    {
      "cell_type": "code",
      "source": [],
      "metadata": {
        "id": "D1YcXZeTkxYM"
      },
      "execution_count": null,
      "outputs": []
    },
    {
      "cell_type": "code",
      "source": [],
      "metadata": {
        "id": "X1Uyz_XykxSh"
      },
      "execution_count": null,
      "outputs": []
    },
    {
      "cell_type": "code",
      "source": [],
      "metadata": {
        "id": "3bld2RR-kxP0"
      },
      "execution_count": null,
      "outputs": []
    },
    {
      "cell_type": "code",
      "source": [],
      "metadata": {
        "id": "qTonJHbIkxM_"
      },
      "execution_count": null,
      "outputs": []
    },
    {
      "cell_type": "code",
      "source": [],
      "metadata": {
        "id": "CquC2CvYkxKa"
      },
      "execution_count": null,
      "outputs": []
    },
    {
      "cell_type": "code",
      "source": [],
      "metadata": {
        "id": "hhklC0x0kxFR"
      },
      "execution_count": null,
      "outputs": []
    },
    {
      "cell_type": "code",
      "source": [],
      "metadata": {
        "id": "HfMFLYXHkxB4"
      },
      "execution_count": null,
      "outputs": []
    },
    {
      "cell_type": "code",
      "source": [],
      "metadata": {
        "id": "lxIU0ynrcIoL"
      },
      "execution_count": null,
      "outputs": []
    },
    {
      "cell_type": "code",
      "source": [],
      "metadata": {
        "id": "zjnNM_VfTMre"
      },
      "execution_count": null,
      "outputs": []
    },
    {
      "cell_type": "code",
      "execution_count": null,
      "metadata": {
        "id": "_DjPlYK-CRqU"
      },
      "outputs": [],
      "source": []
    }
  ]
}