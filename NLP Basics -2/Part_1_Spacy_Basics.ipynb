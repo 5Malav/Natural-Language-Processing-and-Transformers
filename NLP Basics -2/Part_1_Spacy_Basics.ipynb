{
  "nbformat": 4,
  "nbformat_minor": 0,
  "metadata": {
    "colab": {
      "provenance": []
    },
    "kernelspec": {
      "name": "python3",
      "display_name": "Python 3"
    },
    "language_info": {
      "name": "python"
    }
  },
  "cells": [
    {
      "cell_type": "markdown",
      "source": [
        "# What is Spacy?\n",
        "\n",
        "1.) Open Source Natural Language Processing Library\n",
        "\n",
        "2.) Designed to effectively handle NLP tasks with the most efficient implementation of common algorithms.\n",
        "\n",
        "3.) For many NLP tasks, Spacy onle has one implemented method, choosing the most efficient algorithm currently available.\n",
        "\n",
        "4.) This means you often don't have the option to choose other algorithms.\n"
      ],
      "metadata": {
        "id": "PNUu7h_x4lhW"
      }
    },
    {
      "cell_type": "markdown",
      "source": [
        "# What is NLTK ?\n",
        "\n",
        "1.) NLTK - Natural Language Toolkit is a very popular open source.\n",
        "\n",
        "2.) Intially release in 2001, it is older than spacy(released in 2015)\n",
        "\n",
        "3.) It provides many functionalities , but includes less efficient implementations."
      ],
      "metadata": {
        "id": "9PBXJyjkQIiR"
      }
    },
    {
      "cell_type": "markdown",
      "source": [
        "# NLTK vs Spacy\n",
        "\n",
        "1.) For many common NLP tasks, Spacy is much faster and more efficient, at the cost of the user not being able to choose algorithmic implementations.\n",
        "\n",
        "2.) However, Spacy does not include pre-created models for some applications, such as sentiment analysis which is typically easier to perform with NLTK.\n",
        "\n"
      ],
      "metadata": {
        "id": "hKKCxjBlQqaQ"
      }
    },
    {
      "cell_type": "markdown",
      "source": [
        "# What is Natural Language Processing ?\n",
        "\n",
        "\"Natural Language Processing(NLP) is an area of computer science and artificial intelligence concerned with the interactions between computers and human(natural) languages, in particular how to program computers to process and analyze large amounts of narural language data.\n",
        "\n",
        "-> Often when performing analysis, lots of data is numerical , such as sales number, physical measurements, quantifiable categories.\n",
        "\n",
        "-> Computers are very good at handling direct numerical information.\n",
        "\n",
        "what to do about Text data?\n",
        "\n",
        "-> Computer needs a specialized processing techniques in order to \"understand\" raw text data.\n",
        "\n",
        "-> Text data is highly unstructured and can be in multiple languages!\n",
        "\n",
        "-> Natural Language Processing attempts to use a veriety of techniques in order to create structure out of text data.\n",
        "\n",
        "Example Use Cases:\n",
        "\n",
        "1.) Classifying Emails as Spam vs Legitimate\n",
        "\n",
        "2.) Sentiment Analysis if Text Movie Review\n",
        "\n",
        "3.) Analyzing Trends from written customer feedback forms.\n",
        "\n",
        "4.) Understanding text commands, \"Hey Google, play this song\"\n",
        "\n"
      ],
      "metadata": {
        "id": "OBAYQ9tcTSsi"
      }
    },
    {
      "cell_type": "code",
      "source": [
        "# import Spcay\n",
        "\n",
        "import spacy"
      ],
      "metadata": {
        "id": "hlMaBPQD2xFx"
      },
      "execution_count": 1,
      "outputs": []
    },
    {
      "cell_type": "code",
      "source": [
        "# Load language library\n",
        "\n",
        "nlp = spacy.load(\"en_core_web_sm\")\n",
        "nlp\n",
        "\n"
      ],
      "metadata": {
        "colab": {
          "base_uri": "https://localhost:8080/"
        },
        "id": "rqS45FGs2xDc",
        "outputId": "3919d14a-ba1f-4249-9a57-6329747388e4"
      },
      "execution_count": 2,
      "outputs": [
        {
          "output_type": "execute_result",
          "data": {
            "text/plain": [
              "<spacy.lang.en.English at 0x7b4e73cb7c40>"
            ]
          },
          "metadata": {},
          "execution_count": 2
        }
      ]
    },
    {
      "cell_type": "code",
      "source": [
        "# create a document object\n",
        "\n",
        "doc = nlp(u'Tesla and Bitcon prices are going up after election\\\n",
        " currently at $84000')\n",
        "\n",
        "\n"
      ],
      "metadata": {
        "id": "w5QYY4GQ2w-Z"
      },
      "execution_count": 3,
      "outputs": []
    },
    {
      "cell_type": "code",
      "source": [
        "# create a token from doc variable\n",
        "\n",
        "for token in doc:\n",
        "    print(token.text)\n",
        "\n"
      ],
      "metadata": {
        "colab": {
          "base_uri": "https://localhost:8080/"
        },
        "id": "68r2O2Mp2w8K",
        "outputId": "82b025bb-7af4-4156-f6a5-6f23cf227d59"
      },
      "execution_count": 4,
      "outputs": [
        {
          "output_type": "stream",
          "name": "stdout",
          "text": [
            "Tesla\n",
            "and\n",
            "Bitcon\n",
            "prices\n",
            "are\n",
            "going\n",
            "up\n",
            "after\n",
            "election\n",
            "currently\n",
            "at\n",
            "$\n",
            "84000\n"
          ]
        }
      ]
    },
    {
      "cell_type": "code",
      "source": [
        "# POS = Part of speech\n",
        "\n",
        "for token in doc:\n",
        "    print(token.text,token.pos)\n",
        "\n",
        "\n",
        "# In our output we see numbers like 95,89,96\n",
        "# each of these number actually corresponds with a part\n",
        "# of speech, like and adverb, a verb, a noun , a conjugation etc.\n",
        "# to get name use token.pos_\n",
        "\n",
        "print(\" \")\n",
        "\n",
        "\n",
        "for token in doc:\n",
        "    print(token.text,token.pos,token.pos_)\n",
        "\n"
      ],
      "metadata": {
        "colab": {
          "base_uri": "https://localhost:8080/"
        },
        "id": "IyHCZEc42w5A",
        "outputId": "99a68300-4699-47cb-bfea-646d5e21d6bb"
      },
      "execution_count": 5,
      "outputs": [
        {
          "output_type": "stream",
          "name": "stdout",
          "text": [
            "Tesla 96\n",
            "and 89\n",
            "Bitcon 96\n",
            "prices 92\n",
            "are 87\n",
            "going 100\n",
            "up 85\n",
            "after 85\n",
            "election 92\n",
            "currently 86\n",
            "at 85\n",
            "$ 99\n",
            "84000 93\n",
            " \n",
            "Tesla 96 PROPN\n",
            "and 89 CCONJ\n",
            "Bitcon 96 PROPN\n",
            "prices 92 NOUN\n",
            "are 87 AUX\n",
            "going 100 VERB\n",
            "up 85 ADP\n",
            "after 85 ADP\n",
            "election 92 NOUN\n",
            "currently 86 ADV\n",
            "at 85 ADP\n",
            "$ 99 SYM\n",
            "84000 93 NUM\n"
          ]
        }
      ]
    },
    {
      "cell_type": "code",
      "source": [
        "# DEP = Syntactic dependency\n",
        "\n",
        "for token in doc:\n",
        "    print(token.text,token.pos,token.pos_,token.dep_)"
      ],
      "metadata": {
        "colab": {
          "base_uri": "https://localhost:8080/"
        },
        "id": "39gpt6Mr2w2l",
        "outputId": "e04ff098-4140-4ab0-ed40-967891d2acce"
      },
      "execution_count": 6,
      "outputs": [
        {
          "output_type": "stream",
          "name": "stdout",
          "text": [
            "Tesla 96 PROPN nsubj\n",
            "and 89 CCONJ cc\n",
            "Bitcon 96 PROPN compound\n",
            "prices 92 NOUN conj\n",
            "are 87 AUX aux\n",
            "going 100 VERB ROOT\n",
            "up 85 ADP prt\n",
            "after 85 ADP prep\n",
            "election 92 NOUN pobj\n",
            "currently 86 ADV advmod\n",
            "at 85 ADP prep\n",
            "$ 99 SYM nmod\n",
            "84000 93 NUM pobj\n"
          ]
        }
      ]
    },
    {
      "cell_type": "code",
      "source": [
        "# Pipe line object\n",
        "\n",
        "nlp.pipeline\n",
        "\n"
      ],
      "metadata": {
        "colab": {
          "base_uri": "https://localhost:8080/"
        },
        "id": "sGIwMh0Y2w0Q",
        "outputId": "f69c4bf9-e755-4b68-9726-132a6b61f364"
      },
      "execution_count": 7,
      "outputs": [
        {
          "output_type": "execute_result",
          "data": {
            "text/plain": [
              "[('tok2vec', <spacy.pipeline.tok2vec.Tok2Vec at 0x7b4e739417e0>),\n",
              " ('tagger', <spacy.pipeline.tagger.Tagger at 0x7b4e73941ba0>),\n",
              " ('parser', <spacy.pipeline.dep_parser.DependencyParser at 0x7b4e7bd0ed50>),\n",
              " ('attribute_ruler',\n",
              "  <spacy.pipeline.attributeruler.AttributeRuler at 0x7b4e886efbc0>),\n",
              " ('lemmatizer',\n",
              "  <spacy.lang.en.lemmatizer.EnglishLemmatizer at 0x7b4e73bcbbc0>),\n",
              " ('ner', <spacy.pipeline.ner.EntityRecognizer at 0x7b4e7bd0fd10>)]"
            ]
          },
          "metadata": {},
          "execution_count": 7
        }
      ]
    },
    {
      "cell_type": "code",
      "source": [
        "nlp.pipe_names"
      ],
      "metadata": {
        "colab": {
          "base_uri": "https://localhost:8080/"
        },
        "id": "428qi_ye2wxh",
        "outputId": "449223ff-0fd1-4e43-8b75-7b8855cf1904"
      },
      "execution_count": 8,
      "outputs": [
        {
          "output_type": "execute_result",
          "data": {
            "text/plain": [
              "['tok2vec', 'tagger', 'parser', 'attribute_ruler', 'lemmatizer', 'ner']"
            ]
          },
          "metadata": {},
          "execution_count": 8
        }
      ]
    },
    {
      "cell_type": "code",
      "source": [
        "# Tokenization\n",
        "\n",
        "# The very 1st step processing any text is to split it\n",
        "# up all the component parts, that is the words and\n",
        "# punctuation into tokens and these tokesn are annotated\n",
        "# inside the doc object to contain descriptive information\n",
        "\n",
        "doc2 = nlp(u'Tesla is not looking for startups anymore')\n",
        "doc2\n",
        "\n"
      ],
      "metadata": {
        "colab": {
          "base_uri": "https://localhost:8080/"
        },
        "id": "B4cP3rYw2wva",
        "outputId": "0abf5bd0-a774-4227-f3c8-23a1908735fc"
      },
      "execution_count": 9,
      "outputs": [
        {
          "output_type": "execute_result",
          "data": {
            "text/plain": [
              "Tesla is not looking for startups anymore"
            ]
          },
          "metadata": {},
          "execution_count": 9
        }
      ]
    },
    {
      "cell_type": "code",
      "source": [
        "for token in doc2:\n",
        "    print(token.text,token.pos_,token.dep_)\n",
        "\n"
      ],
      "metadata": {
        "colab": {
          "base_uri": "https://localhost:8080/"
        },
        "id": "FLOTn38E2wsO",
        "outputId": "b42c951c-4a78-4573-820e-9df1b87acf31"
      },
      "execution_count": 10,
      "outputs": [
        {
          "output_type": "stream",
          "name": "stdout",
          "text": [
            "Tesla PROPN nsubj\n",
            "is AUX aux\n",
            "not PART neg\n",
            "looking VERB ROOT\n",
            "for ADP prep\n",
            "startups NOUN pobj\n",
            "anymore ADV advmod\n"
          ]
        }
      ]
    },
    {
      "cell_type": "code",
      "source": [
        "doc2 = nlp(u\"Tesla isn't   looking for startups anymore\")\n",
        "doc2\n",
        "for token in doc2:\n",
        "    print(token.text,token.pos_,token.dep_)\n",
        "\n"
      ],
      "metadata": {
        "id": "jUifygT72wpp",
        "colab": {
          "base_uri": "https://localhost:8080/"
        },
        "outputId": "f42004f4-084f-4b4c-cb34-2e7ae7424ac6"
      },
      "execution_count": 11,
      "outputs": [
        {
          "output_type": "stream",
          "name": "stdout",
          "text": [
            "Tesla PROPN nsubj\n",
            "is AUX aux\n",
            "n't PART neg\n",
            "   SPACE dep\n",
            "looking VERB ROOT\n",
            "for ADP prep\n",
            "startups NOUN pobj\n",
            "anymore ADV advmod\n"
          ]
        }
      ]
    },
    {
      "cell_type": "code",
      "source": [
        "doc2[0]"
      ],
      "metadata": {
        "colab": {
          "base_uri": "https://localhost:8080/"
        },
        "id": "Q49T6tAIbBFE",
        "outputId": "7f196644-5887-43e1-c5e9-be8558328a17"
      },
      "execution_count": 12,
      "outputs": [
        {
          "output_type": "execute_result",
          "data": {
            "text/plain": [
              "Tesla"
            ]
          },
          "metadata": {},
          "execution_count": 12
        }
      ]
    },
    {
      "cell_type": "code",
      "source": [
        "# So far we iterated all tokens.\n",
        "\n",
        "# we can also take all of them using indexing.\n",
        "\n",
        "doc[2].pos_"
      ],
      "metadata": {
        "colab": {
          "base_uri": "https://localhost:8080/",
          "height": 36
        },
        "id": "FULFXPmIbBCN",
        "outputId": "a64a99e4-f1b9-4c06-828c-093676fec728"
      },
      "execution_count": 18,
      "outputs": [
        {
          "output_type": "execute_result",
          "data": {
            "text/plain": [
              "'PROPN'"
            ],
            "application/vnd.google.colaboratory.intrinsic+json": {
              "type": "string"
            }
          },
          "metadata": {},
          "execution_count": 18
        }
      ]
    },
    {
      "cell_type": "code",
      "source": [
        "# syntactic dependency\n",
        "\n",
        "doc2[0].dep_"
      ],
      "metadata": {
        "id": "C-UHMx4ubA85",
        "colab": {
          "base_uri": "https://localhost:8080/",
          "height": 36
        },
        "outputId": "7493789f-5797-40f6-aedb-6e0d4d404dba"
      },
      "execution_count": 20,
      "outputs": [
        {
          "output_type": "execute_result",
          "data": {
            "text/plain": [
              "'nsubj'"
            ],
            "application/vnd.google.colaboratory.intrinsic+json": {
              "type": "string"
            }
          },
          "metadata": {},
          "execution_count": 20
        }
      ]
    },
    {
      "cell_type": "markdown",
      "source": [
        "\n",
        "## Additional Token Attributes\n",
        "\n"
      ],
      "metadata": {
        "id": "-0vTIVVZlx9C"
      }
    },
    {
      "cell_type": "markdown",
      "metadata": {
        "id": "CSjMcbkulmZK"
      },
      "source": [
        "|Tag|Description|doc2[0].tag|\n",
        "|:------|:------:|:------|\n",
        "|`.text`|The original word text<!-- .element: style=\"text-align:left;\" -->|`Tesla`|\n",
        "|`.lemma_`|The base form of the word|`tesla`|\n",
        "|`.pos_`|The simple part-of-speech tag|`PROPN`/`proper noun`|\n",
        "|`.tag_`|The detailed part-of-speech tag|`NNP`/`noun, proper singular`|\n",
        "|`.shape_`|The word shape – capitalization, punctuation, digits|`Xxxxx`|\n",
        "|`.is_alpha`|Is the token an alpha character?|`True`|\n",
        "|`.is_stop`|Is the token part of a stop list, i.e. the most common words of the language?|`False`|"
      ]
    },
    {
      "cell_type": "code",
      "source": [
        "# lemmas( The base form of the word)\n",
        "\n",
        "print(doc2[4].text)\n",
        "print(doc2[4].lemma_)"
      ],
      "metadata": {
        "colab": {
          "base_uri": "https://localhost:8080/"
        },
        "id": "kk2ht-Kxm9-X",
        "outputId": "c5e60c13-c3e2-4361-be9e-1dfe0f5b031a"
      },
      "execution_count": 24,
      "outputs": [
        {
          "output_type": "stream",
          "name": "stdout",
          "text": [
            "looking\n",
            "look\n"
          ]
        }
      ]
    },
    {
      "cell_type": "code",
      "source": [
        "# Part of speech\n",
        "\n",
        "print(doc[2].pos_)\n",
        "\n",
        "print(doc2[4].tag_ +' || '+spacy.explain(doc2[4].tag_))"
      ],
      "metadata": {
        "colab": {
          "base_uri": "https://localhost:8080/"
        },
        "id": "5gGFa2TEm97i",
        "outputId": "164060e8-8143-4d15-e0bd-30450f889b96"
      },
      "execution_count": 29,
      "outputs": [
        {
          "output_type": "stream",
          "name": "stdout",
          "text": [
            "PROPN\n",
            "VBG || verb, gerund or present participle\n"
          ]
        }
      ]
    },
    {
      "cell_type": "code",
      "source": [
        "# Word shapes\n",
        "\n",
        "print(doc[2].text+ ' || ' +doc[2].shape_)\n",
        "print(doc2[5].text+ ' || ' +doc[5].shape_)"
      ],
      "metadata": {
        "colab": {
          "base_uri": "https://localhost:8080/"
        },
        "id": "nVGW_6T3m9xX",
        "outputId": "f16efd1a-b820-48f7-f53b-e4ba0ae324af"
      },
      "execution_count": 32,
      "outputs": [
        {
          "output_type": "stream",
          "name": "stdout",
          "text": [
            "Bitcon || Xxxxx\n",
            "for || xxxx\n"
          ]
        }
      ]
    },
    {
      "cell_type": "code",
      "source": [
        "# Boolean value\n",
        "\n",
        "print(doc2[0].text)\n",
        "\n",
        "print(doc2[0].is_alpha)\n",
        "\n",
        "\n",
        "print(doc2[5].text)\n",
        "\n",
        "print(doc2[5].is_alpha)"
      ],
      "metadata": {
        "colab": {
          "base_uri": "https://localhost:8080/"
        },
        "id": "bC3X5aXdoIyY",
        "outputId": "1b732dfb-766a-4670-867f-9ca8ccecca76"
      },
      "execution_count": 35,
      "outputs": [
        {
          "output_type": "stream",
          "name": "stdout",
          "text": [
            "Tesla\n",
            "True\n",
            "for\n",
            "True\n"
          ]
        }
      ]
    },
    {
      "cell_type": "markdown",
      "source": [
        "# Spans\n",
        "\n",
        "Large document objects can be hard to work with some times. A spane is a slice of Doc object in the form\n",
        "\n",
        "Doc[start:stop]"
      ],
      "metadata": {
        "id": "qPwhGJv9mVjS"
      }
    },
    {
      "cell_type": "code",
      "source": [
        "doc3 = nlp(u'Although commmonly attributed to John Lennon from his song \"Beautiful Boy\", \\\n",
        "the phrase \"Life is what happens to us while we are making other plans\" was written by \\\n",
        "cartoonist Allen Saunders and published in Reader\\'s Digest in 1957, when Lennon was 17.')\n",
        "doc3"
      ],
      "metadata": {
        "id": "JkFcnoPG2wnf",
        "colab": {
          "base_uri": "https://localhost:8080/"
        },
        "outputId": "7b3f0c75-ec0c-4c95-e97e-b886484258db"
      },
      "execution_count": 22,
      "outputs": [
        {
          "output_type": "execute_result",
          "data": {
            "text/plain": [
              "Although commmonly attributed to John Lennon from his song \"Beautiful Boy\", the phrase \"Life is what happens to us while we are making other plans\" was written by cartoonist Allen Saunders and published in Reader's Digest in 1957, when Lennon was 17."
            ]
          },
          "metadata": {},
          "execution_count": 22
        }
      ]
    },
    {
      "cell_type": "code",
      "source": [
        "# grab a span from it\n",
        "\n",
        "life_quote=doc3[16:30]"
      ],
      "metadata": {
        "id": "YVAZTgVk2wkV"
      },
      "execution_count": 36,
      "outputs": []
    },
    {
      "cell_type": "code",
      "source": [
        "life_quote"
      ],
      "metadata": {
        "id": "IMrLSYQn2whU",
        "colab": {
          "base_uri": "https://localhost:8080/"
        },
        "outputId": "ab217187-95a5-4aaa-b042-59320f3b25ec"
      },
      "execution_count": 37,
      "outputs": [
        {
          "output_type": "execute_result",
          "data": {
            "text/plain": [
              "\"Life is what happens to us while we are making other plans\""
            ]
          },
          "metadata": {},
          "execution_count": 37
        }
      ]
    },
    {
      "cell_type": "code",
      "source": [
        "type(life_quote)\n",
        "#spcay know type of span"
      ],
      "metadata": {
        "id": "GeDGAfM12wff",
        "colab": {
          "base_uri": "https://localhost:8080/"
        },
        "outputId": "ec606bda-a5de-4fa5-9711-1ef480e7fa8d"
      },
      "execution_count": 38,
      "outputs": [
        {
          "output_type": "execute_result",
          "data": {
            "text/plain": [
              "spacy.tokens.span.Span"
            ]
          },
          "metadata": {},
          "execution_count": 38
        }
      ]
    },
    {
      "cell_type": "code",
      "source": [
        "type(doc3)"
      ],
      "metadata": {
        "id": "_wG6Y2Sy2wca",
        "colab": {
          "base_uri": "https://localhost:8080/"
        },
        "outputId": "2e777c4d-a85e-4db1-8928-16f4275630f5"
      },
      "execution_count": 39,
      "outputs": [
        {
          "output_type": "execute_result",
          "data": {
            "text/plain": [
              "spacy.tokens.doc.Doc"
            ]
          },
          "metadata": {},
          "execution_count": 39
        }
      ]
    },
    {
      "cell_type": "code",
      "source": [
        "doc4 = nlp(u'This is the Spacy introduction. I tried to do as much practice as I could do. Next will do tokenization')"
      ],
      "metadata": {
        "id": "zmqOORZl2was"
      },
      "execution_count": 40,
      "outputs": []
    },
    {
      "cell_type": "code",
      "source": [
        "# Print each sentence\n",
        "\n",
        "for sentence in doc4.sents:\n",
        "    print(sentence)"
      ],
      "metadata": {
        "id": "4PKWNy7X2wXw",
        "colab": {
          "base_uri": "https://localhost:8080/"
        },
        "outputId": "826da6de-e22f-4bf1-d32b-6ea519cc6a34"
      },
      "execution_count": 42,
      "outputs": [
        {
          "output_type": "stream",
          "name": "stdout",
          "text": [
            "This is the Spacy introduction.\n",
            "I tried to do as much practice as I could do.\n",
            "Next will do tokenization\n"
          ]
        }
      ]
    },
    {
      "cell_type": "code",
      "source": [
        "doc4[3]"
      ],
      "metadata": {
        "id": "5WN8l8VU2wVC",
        "colab": {
          "base_uri": "https://localhost:8080/"
        },
        "outputId": "f75dd6c4-2bb4-4ff4-8f0f-703d838613d7"
      },
      "execution_count": 45,
      "outputs": [
        {
          "output_type": "execute_result",
          "data": {
            "text/plain": [
              "Spacy"
            ]
          },
          "metadata": {},
          "execution_count": 45
        }
      ]
    },
    {
      "cell_type": "code",
      "source": [
        "doc4[0].is_sent_start"
      ],
      "metadata": {
        "id": "yEyjL2uo2wSo",
        "colab": {
          "base_uri": "https://localhost:8080/"
        },
        "outputId": "198160e8-6466-48b0-9068-91ec0e164eb9"
      },
      "execution_count": 46,
      "outputs": [
        {
          "output_type": "execute_result",
          "data": {
            "text/plain": [
              "True"
            ]
          },
          "metadata": {},
          "execution_count": 46
        }
      ]
    },
    {
      "cell_type": "code",
      "source": [
        "doc4[15].is_sent_end"
      ],
      "metadata": {
        "id": "AUchcgoS2wPj",
        "colab": {
          "base_uri": "https://localhost:8080/"
        },
        "outputId": "6173fda3-fd86-44df-b14b-d9d4f595c5a2"
      },
      "execution_count": 47,
      "outputs": [
        {
          "output_type": "execute_result",
          "data": {
            "text/plain": [
              "False"
            ]
          },
          "metadata": {},
          "execution_count": 47
        }
      ]
    }
  ]
}