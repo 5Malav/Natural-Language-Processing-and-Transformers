{
  "nbformat": 4,
  "nbformat_minor": 0,
  "metadata": {
    "colab": {
      "provenance": []
    },
    "kernelspec": {
      "name": "python3",
      "display_name": "Python 3"
    },
    "language_info": {
      "name": "python"
    }
  },
  "cells": [
    {
      "cell_type": "markdown",
      "source": [
        "# Phrase Matching and Vocabulary"
      ],
      "metadata": {
        "id": "wQnyU4sEHDGK"
      }
    },
    {
      "cell_type": "code",
      "source": [
        "\"\"\"\n",
        "\n",
        "Identify and label specific phrases that match patterns can be defined.\n",
        "\n",
        "This can be as powerful as Regular expression where actual take parts of\n",
        "speech into account for pattern search.\n",
        "\n",
        "\"\"\"\n",
        "\n"
      ],
      "metadata": {
        "colab": {
          "base_uri": "https://localhost:8080/",
          "height": 53
        },
        "id": "5LH-WyjwF6aV",
        "outputId": "ff1f3ae5-f194-4d53-e870-4506c66a8a67"
      },
      "execution_count": 42,
      "outputs": [
        {
          "output_type": "execute_result",
          "data": {
            "text/plain": [
              "'\\n\\nIdentify and label specific phrases that match patterns can be defined.\\n\\nThis can be as powerful as Regular expression where actual take parts of\\nspeech into account for pattern search.\\n\\n'"
            ],
            "application/vnd.google.colaboratory.intrinsic+json": {
              "type": "string"
            }
          },
          "metadata": {},
          "execution_count": 42
        }
      ]
    },
    {
      "cell_type": "code",
      "source": [
        "import spacy\n",
        "\n"
      ],
      "metadata": {
        "id": "6xgHtMKOF6XY"
      },
      "execution_count": 43,
      "outputs": []
    },
    {
      "cell_type": "code",
      "source": [
        "nlp =spacy.load('en_core_web_sm')"
      ],
      "metadata": {
        "id": "XhF_uAcMF6Uj"
      },
      "execution_count": 44,
      "outputs": []
    },
    {
      "cell_type": "markdown",
      "source": [
        "# Rule Based matching"
      ],
      "metadata": {
        "id": "sQjuK56JKnQI"
      }
    },
    {
      "cell_type": "code",
      "source": [
        "\"\"\"\n",
        "\n",
        "Spacy offers a rule matching tool called Matcher, that allows to build\n",
        "a library of token patterns then match those patterns against a doct\n",
        "object to return a list of found matches, a very similiar idea to\n",
        "regular expressions.\n",
        "\n",
        "Using this any part of token, including text and annotations can be matched.\n",
        "And we can add multiple pattern to the same matcher.\n",
        "\n",
        "\"\"\"\n"
      ],
      "metadata": {
        "colab": {
          "base_uri": "https://localhost:8080/",
          "height": 87
        },
        "id": "_WL_3K9BF6R_",
        "outputId": "dd58bc1c-7202-443d-e846-c45dab50c22a"
      },
      "execution_count": 45,
      "outputs": [
        {
          "output_type": "execute_result",
          "data": {
            "text/plain": [
              "'\\n\\nSpacy offers a rule matching tool called Matcher, that allows to build\\na library of token patterns then match those patterns against a doct\\nobject to return a list of found matches, a very similiar idea to \\nregular expressions.\\n\\nUsing this any part of token, including text and annotations can be matched.\\nAnd we can add multiple pattern to the same matcher.\\n\\n'"
            ],
            "application/vnd.google.colaboratory.intrinsic+json": {
              "type": "string"
            }
          },
          "metadata": {},
          "execution_count": 45
        }
      ]
    },
    {
      "cell_type": "code",
      "source": [
        "from spacy.matcher import Matcher"
      ],
      "metadata": {
        "id": "dk5lFdwLF6Px"
      },
      "execution_count": 46,
      "outputs": []
    },
    {
      "cell_type": "code",
      "source": [
        "matcher = Matcher(nlp.vocab)\n",
        "matcher"
      ],
      "metadata": {
        "colab": {
          "base_uri": "https://localhost:8080/"
        },
        "id": "--6fLijoF6NN",
        "outputId": "4383fe4b-fd42-457e-d6a8-a2185cd64db2"
      },
      "execution_count": 47,
      "outputs": [
        {
          "output_type": "execute_result",
          "data": {
            "text/plain": [
              "<spacy.matcher.matcher.Matcher at 0x7ccffe391630>"
            ]
          },
          "metadata": {},
          "execution_count": 47
        }
      ]
    },
    {
      "cell_type": "markdown",
      "source": [
        "## Other token attributes\n",
        "Besides lemmas, there are a variety of token attributes we can use to determine matching rules:\n",
        "<table><tr><th>Attribute</th><th>Description</th></tr>\n",
        "\n",
        "<tr ><td><span >`ORTH`</span></td><td>The exact verbatim text of a token</td></tr>\n",
        "<tr ><td><span >`LOWER`</span></td><td>The lowercase form of the token text</td></tr>\n",
        "<tr ><td><span >`LENGTH`</span></td><td>The length of the token text</td></tr>\n",
        "<tr ><td><span >`IS_ALPHA`, `IS_ASCII`, `IS_DIGIT`</span></td><td>Token text consists of alphanumeric characters, ASCII characters, digits</td></tr>\n",
        "<tr ><td><span >`IS_LOWER`, `IS_UPPER`, `IS_TITLE`</span></td><td>Token text is in lowercase, uppercase, titlecase</td></tr>\n",
        "<tr ><td><span >`IS_PUNCT`, `IS_SPACE`, `IS_STOP`</span></td><td>Token is punctuation, whitespace, stop word</td></tr>\n",
        "<tr ><td><span >`LIKE_NUM`, `LIKE_URL`, `LIKE_EMAIL`</span></td><td>Token text resembles a number, URL, email</td></tr>\n",
        "<tr ><td><span >`POS`, `TAG`, `DEP`, `LEMMA`, `SHAPE`</span></td><td>The token's simple and extended part-of-speech tag, dependency label, lemma, shape</td></tr>\n",
        "<tr ><td><span >`ENT_TYPE`</span></td><td>The token's entity label</td></tr>\n",
        "\n",
        "</table>"
      ],
      "metadata": {
        "id": "4zKKD5vBgGS3"
      }
    },
    {
      "cell_type": "code",
      "source": [
        "# Find a pattern.\n",
        "\n",
        "#\n",
        "\n",
        "\n",
        "# SolarPower\n",
        "pattern_1 = [{'LOWER':'solarpower'}]\n",
        "\n",
        "#solar-power\n",
        "pattern_2 = [{'LOWER':'solar'},{'IS_PUNCT':True},{\"LOWER\":'power'}]\n",
        "\n",
        "# Solar Power\n",
        "pattern_3 = [{'LOWER':'solar'},{'LOWER':'power'}]\n",
        "\n",
        "\n"
      ],
      "metadata": {
        "id": "Wy9D7bikF6KS"
      },
      "execution_count": 48,
      "outputs": []
    },
    {
      "cell_type": "code",
      "source": [
        "matcher.add('SolarPower',[pattern_1,pattern_2,pattern_3])\n"
      ],
      "metadata": {
        "id": "s4B2ZxUvF6Hy"
      },
      "execution_count": 49,
      "outputs": []
    },
    {
      "cell_type": "code",
      "source": [
        "doc = nlp(u'The Solar Power industry is boolimg in India.As electricity\\\n",
        "through solarpower is cheap.Government also provide money for solar-power\\\n",
        "equipment ')\n",
        "\n"
      ],
      "metadata": {
        "id": "YY2EZIrnF6FJ"
      },
      "execution_count": 50,
      "outputs": []
    },
    {
      "cell_type": "code",
      "source": [
        "matches= matcher(doc)\n",
        "print(matches)\n",
        "\n",
        "# String id, start,stop\n"
      ],
      "metadata": {
        "colab": {
          "base_uri": "https://localhost:8080/"
        },
        "id": "apTmUr0NF6Ck",
        "outputId": "5bf07ffe-b927-451d-dad3-2604da691d3b"
      },
      "execution_count": 51,
      "outputs": [
        {
          "output_type": "stream",
          "name": "stdout",
          "text": [
            "[(8656102463236116519, 1, 3), (8656102463236116519, 11, 12)]\n"
          ]
        }
      ]
    },
    {
      "cell_type": "code",
      "source": [
        "# matcher returns a list of tuple. Each tupel contains an ID for the match,\n",
        "# with start and end tokens that map to the span[start:end]\n",
        "\n",
        "\n"
      ],
      "metadata": {
        "id": "L4YKTDET0n0j"
      },
      "execution_count": 52,
      "outputs": []
    },
    {
      "cell_type": "code",
      "source": [
        "for match_id,start,end in matches:\n",
        "    string_id = nlp.vocab.strings[match_id] # get string representation\n",
        "    span = doc[start:end]                  # get the matched span\n",
        "    print(match_id,string_id,start,end,span.text)\n",
        "\n"
      ],
      "metadata": {
        "colab": {
          "base_uri": "https://localhost:8080/"
        },
        "id": "IhW3frxd0nxo",
        "outputId": "f0b755f2-f73d-4955-e5a7-dffdc8e1af64"
      },
      "execution_count": 53,
      "outputs": [
        {
          "output_type": "stream",
          "name": "stdout",
          "text": [
            "8656102463236116519 SolarPower 1 3 Solar Power\n",
            "8656102463236116519 SolarPower 11 12 solarpower\n"
          ]
        }
      ]
    },
    {
      "cell_type": "code",
      "source": [
        "# remove a pattern\n",
        "\n",
        "matcher.remove('SolarPower')\n"
      ],
      "metadata": {
        "id": "aS3wsJag0nur"
      },
      "execution_count": 54,
      "outputs": []
    },
    {
      "cell_type": "markdown",
      "source": [
        "This found both two-word patterns, with and without the hyphen!\n",
        "\n",
        "The following quantifiers can be passed to the `'OP'` key:\n",
        "<table><tr><th>OP</th><th>Description</th></tr>\n",
        "\n",
        "<tr ><td><span >\\!</span></td><td>Negate the pattern, by requiring it to match exactly 0 times</td></tr>\n",
        "<tr ><td><span >?</span></td><td>Make the pattern optional, by allowing it to match 0 or 1 times</td></tr>\n",
        "<tr ><td><span >\\+</span></td><td>Require the pattern to match 1 or more times</td></tr>\n",
        "<tr ><td><span >\\*</span></td><td>Allow the pattern to match zero or more times</td></tr>\n",
        "</table>\n"
      ],
      "metadata": {
        "id": "YxSoe0t810is"
      }
    },
    {
      "cell_type": "code",
      "source": [
        "pattern1 = [{'LOWER':'solarpower'}]\n",
        "\n",
        "pattern2 = [{'LOWER':'solar'},{'IS_PUNCT':True,'OP':'*'},{'LOWER':'power'}]\n",
        "\n"
      ],
      "metadata": {
        "id": "JnpbM1YvF5_2"
      },
      "execution_count": 55,
      "outputs": []
    },
    {
      "cell_type": "code",
      "source": [
        "matcher.add('SolarPower',[pattern1,pattern2])\n",
        "\n"
      ],
      "metadata": {
        "id": "Efh8eVMSF59h"
      },
      "execution_count": 56,
      "outputs": []
    },
    {
      "cell_type": "code",
      "source": [
        "doc2 = nlp(u'Solar--power is solarpower yeee! solarpower is next big thing')"
      ],
      "metadata": {
        "id": "rWWCCNB52Lxo"
      },
      "execution_count": 57,
      "outputs": []
    },
    {
      "cell_type": "code",
      "source": [
        "matches = matcher(doc2)\n",
        "matches"
      ],
      "metadata": {
        "colab": {
          "base_uri": "https://localhost:8080/"
        },
        "id": "YqW_edvvF56y",
        "outputId": "fa0a2f07-4715-4a4f-baae-5a6450c5bf29"
      },
      "execution_count": 58,
      "outputs": [
        {
          "output_type": "execute_result",
          "data": {
            "text/plain": [
              "[(8656102463236116519, 0, 3),\n",
              " (8656102463236116519, 4, 5),\n",
              " (8656102463236116519, 7, 8)]"
            ]
          },
          "metadata": {},
          "execution_count": 58
        }
      ]
    },
    {
      "cell_type": "code",
      "source": [
        "for match_id,start,end in matches:\n",
        "    string_id=nlp.vocab.strings[match_id] # get string representation\n",
        "    span = doc[start:end]\n",
        "    print(match_id,string_id,start,end,span.text)\n",
        "\n"
      ],
      "metadata": {
        "colab": {
          "base_uri": "https://localhost:8080/"
        },
        "id": "elSCn_JP2YWa",
        "outputId": "367a0a41-527c-4472-88df-a4a89eedf084"
      },
      "execution_count": 59,
      "outputs": [
        {
          "output_type": "stream",
          "name": "stdout",
          "text": [
            "8656102463236116519 SolarPower 0 3 The Solar Power\n",
            "8656102463236116519 SolarPower 4 5 is\n",
            "8656102463236116519 SolarPower 7 8 India\n"
          ]
        }
      ]
    },
    {
      "cell_type": "markdown",
      "source": [
        "# Phrase Matching"
      ],
      "metadata": {
        "id": "yrWcmn6g3Ner"
      }
    },
    {
      "cell_type": "code",
      "source": [
        "from spacy.matcher import PhraseMatcher"
      ],
      "metadata": {
        "id": "yAgXIQT72YSg"
      },
      "execution_count": 60,
      "outputs": []
    },
    {
      "cell_type": "code",
      "source": [
        "matcher = PhraseMatcher(nlp.vocab)"
      ],
      "metadata": {
        "id": "6o_fNVxq2YQ9"
      },
      "execution_count": 61,
      "outputs": []
    },
    {
      "cell_type": "code",
      "source": [
        "#Specify encoding: We change the open() function to explicitly\n",
        "#specify the file's encoding.\n",
        "#The encoding='latin-1' argument tells Python to interpret the\n",
        "#file using the 'latin-1' encoding."
      ],
      "metadata": {
        "id": "7GFvV7MF4STG"
      },
      "execution_count": 68,
      "outputs": []
    },
    {
      "cell_type": "code",
      "source": [
        "with open('/content/reaganomics.txt',encoding='latin-1') as f:\n",
        "    doc3= nlp(f.read())\n"
      ],
      "metadata": {
        "id": "1-LZBRlk2YPN"
      },
      "execution_count": 66,
      "outputs": []
    },
    {
      "cell_type": "code",
      "source": [
        "phrase_list = ['voodoo economics', 'supply-side economics', \\\n",
        "               'trickle-down economics', 'free-market economics']\n",
        "\n"
      ],
      "metadata": {
        "id": "de91RnPd2YNK"
      },
      "execution_count": 80,
      "outputs": []
    },
    {
      "cell_type": "code",
      "source": [
        "\n",
        "# Next, convert each phrase to a Doc object:\n",
        "phrase_patterns = [nlp(text) for text in phrase_list]\n",
        "\n",
        "# Pass each Doc object into matcher (note the use of the asterisk!):\n",
        "matcher.add('VoodooEconomics', None, *phrase_patterns)\n",
        "\n",
        "# Build a list of matches:\n",
        "matches = matcher(doc3)"
      ],
      "metadata": {
        "id": "MypmoZOZ2YCB"
      },
      "execution_count": 95,
      "outputs": []
    },
    {
      "cell_type": "code",
      "source": [
        "matches"
      ],
      "metadata": {
        "colab": {
          "base_uri": "https://localhost:8080/"
        },
        "id": "Mq7LXXRhF54G",
        "outputId": "30c756db-3ba5-4f9e-e47f-c6168d043d4a"
      },
      "execution_count": 96,
      "outputs": [
        {
          "output_type": "execute_result",
          "data": {
            "text/plain": [
              "[(3473369816841043438, 41, 45),\n",
              " (3473369816841043438, 49, 53),\n",
              " (3473369816841043438, 54, 56),\n",
              " (3473369816841043438, 61, 65),\n",
              " (3473369816841043438, 673, 677),\n",
              " (3473369816841043438, 2986, 2990)]"
            ]
          },
          "metadata": {},
          "execution_count": 96
        }
      ]
    },
    {
      "cell_type": "code",
      "source": [
        "for match_id,start,end in matches:\n",
        "    string_id=nlp.vocab.strings[match_id] # get string representation\n",
        "    span = doc3[start:end]\n",
        "    print(match_id,string_id,start,end,span.text)\n"
      ],
      "metadata": {
        "colab": {
          "base_uri": "https://localhost:8080/"
        },
        "id": "Eim1yp_N7bkt",
        "outputId": "87d44bbf-240b-43e3-ad98-d2f26e192348"
      },
      "execution_count": 99,
      "outputs": [
        {
          "output_type": "stream",
          "name": "stdout",
          "text": [
            "3473369816841043438 VoodooEconomics 41 45 supply-side economics\n",
            "3473369816841043438 VoodooEconomics 49 53 trickle-down economics\n",
            "3473369816841043438 VoodooEconomics 54 56 voodoo economics\n",
            "3473369816841043438 VoodooEconomics 61 65 free-market economics\n",
            "3473369816841043438 VoodooEconomics 673 677 supply-side economics\n",
            "3473369816841043438 VoodooEconomics 2986 2990 trickle-down economics\n"
          ]
        }
      ]
    },
    {
      "cell_type": "code",
      "source": [
        "# for more context of token add and subtract from start and end\n",
        "\n",
        "for match_id,start,end in matches:\n",
        "    string_id=nlp.vocab.strings[match_id] # get string representation\n",
        "    span = doc3[start-10:end+10]\n",
        "    print(match_id,string_id,start,end,span.text)\n",
        "    print(\"\\n\")\n"
      ],
      "metadata": {
        "colab": {
          "base_uri": "https://localhost:8080/"
        },
        "id": "GYK59K6E7bh1",
        "outputId": "694c8020-74c8-4a66-ccd2-6a497d9a7bec"
      },
      "execution_count": 101,
      "outputs": [
        {
          "output_type": "stream",
          "name": "stdout",
          "text": [
            "3473369816841043438 VoodooEconomics 41 45 during the 1980s. These policies are commonly associated with supply-side economics, referred to as trickle-down economics or voodoo\n",
            "\n",
            "\n",
            "3473369816841043438 VoodooEconomics 49 53 associated with supply-side economics, referred to as trickle-down economics or voodoo economics by political opponents, and free-\n",
            "\n",
            "\n",
            "3473369816841043438 VoodooEconomics 54 56 economics, referred to as trickle-down economics or voodoo economics by political opponents, and free-market economics by\n",
            "\n",
            "\n",
            "3473369816841043438 VoodooEconomics 61 65 down economics or voodoo economics by political opponents, and free-market economics by political advocates.\n",
            "\n",
            "The four pillars of Reagan\n",
            "\n",
            "\n",
            "3473369816841043438 VoodooEconomics 673 677 At the same time he attracted a following from the supply-side economics movement, which formed in opposition to Keynesian demand-\n",
            "\n",
            "\n",
            "3473369816841043438 VoodooEconomics 2986 2990 against institutions.[66] His policies became widely known as \"trickle-down economics\", due to the significant cuts in the upper\n",
            "\n",
            "\n"
          ]
        }
      ]
    },
    {
      "cell_type": "code",
      "source": [],
      "metadata": {
        "id": "946EBjAc7bfR"
      },
      "execution_count": null,
      "outputs": []
    },
    {
      "cell_type": "code",
      "source": [],
      "metadata": {
        "id": "owwHWhuh7bbe"
      },
      "execution_count": null,
      "outputs": []
    },
    {
      "cell_type": "code",
      "source": [],
      "metadata": {
        "id": "VWD2-zaPF51L"
      },
      "execution_count": 59,
      "outputs": []
    },
    {
      "cell_type": "code",
      "source": [],
      "metadata": {
        "id": "icdxSbV-F5vw"
      },
      "execution_count": 59,
      "outputs": []
    },
    {
      "cell_type": "code",
      "execution_count": 59,
      "metadata": {
        "id": "bweK-1i1F5Hi"
      },
      "outputs": [],
      "source": []
    }
  ]
}