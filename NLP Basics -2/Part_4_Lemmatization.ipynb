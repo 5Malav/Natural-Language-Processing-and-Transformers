{
  "nbformat": 4,
  "nbformat_minor": 0,
  "metadata": {
    "colab": {
      "provenance": []
    },
    "kernelspec": {
      "name": "python3",
      "display_name": "Python 3"
    },
    "language_info": {
      "name": "python"
    }
  },
  "cells": [
    {
      "cell_type": "markdown",
      "source": [
        "# Lemmatization\n"
      ],
      "metadata": {
        "id": "Jc2JSC_a2sfm"
      }
    },
    {
      "cell_type": "code",
      "execution_count": null,
      "metadata": {
        "id": "GFDKJoG_2kmr"
      },
      "outputs": [],
      "source": [
        "\"\"\"\n",
        "\n",
        "In contrast to stemming, lemmatization looks beyond word reduction, and\n",
        "considers a language's full vocabulary to apply a morphological analysis\n",
        "to words.\n",
        "\n",
        "The lemma of \"was\" is \"be\" and the lemma of \"mice\" is \"mouse\".\n",
        "Further, the lemma of \"meeting\" might be \"meet\" or \"meeting\"\n",
        "depending on its use in a sentence.\n",
        "\n",
        "Here we are not just shortening words or cutting off the end of them.\n",
        "Instead, we are looking at the full context of the word.\n",
        "\n",
        "Lemmatization is typically seen as much more informative than simple\n",
        "stemming which is why Spacy has opted to only have Lemmatizaation available\n",
        "instead of Stemming.\n",
        "\n",
        "Lemmatization looks at surrounding text to determine a given word's\n",
        "part of speech, it does not categorize pharases.\n",
        "\n",
        "\n",
        "\"\"\"\n",
        "\n"
      ]
    },
    {
      "cell_type": "code",
      "source": [
        "import spacy"
      ],
      "metadata": {
        "id": "2KnY5xqd2lHT"
      },
      "execution_count": 1,
      "outputs": []
    },
    {
      "cell_type": "code",
      "source": [
        "nlp = spacy.load('en_core_web_sm')"
      ],
      "metadata": {
        "id": "NGd3g41E2lKE"
      },
      "execution_count": 4,
      "outputs": []
    },
    {
      "cell_type": "code",
      "source": [
        "doc1 = nlp(u'To get more healthy body I do running and walking. After running \\\n",
        "I do some yoga as well.')\n",
        "\n"
      ],
      "metadata": {
        "id": "50b7fhVn2lMy"
      },
      "execution_count": 10,
      "outputs": []
    },
    {
      "cell_type": "code",
      "source": [
        "for token in doc1:\n",
        "    print(token.text,\" \\t\",token.pos_,'\\t',token.lemma,'\\t',token.lemma_)\n",
        "\n"
      ],
      "metadata": {
        "colab": {
          "base_uri": "https://localhost:8080/"
        },
        "id": "A3ixPmcX2lPh",
        "outputId": "a994169f-e152-46b3-cad8-4dc74dccd9f7"
      },
      "execution_count": 11,
      "outputs": [
        {
          "output_type": "stream",
          "name": "stdout",
          "text": [
            "To  \t PART \t 3791531372978436496 \t to\n",
            "get  \t VERB \t 2013399242189103424 \t get\n",
            "more  \t ADV \t 2160362229054775535 \t more\n",
            "healthy  \t ADJ \t 5379644128261274187 \t healthy\n",
            "body  \t NOUN \t 12275956947298454125 \t body\n",
            "I  \t PRON \t 4690420944186131903 \t I\n",
            "do  \t AUX \t 2158845516055552166 \t do\n",
            "running  \t VERB \t 12767647472892411841 \t run\n",
            "and  \t CCONJ \t 2283656566040971221 \t and\n",
            "walking  \t VERB \t 1674876016505392235 \t walk\n",
            ".  \t PUNCT \t 12646065887601541794 \t .\n",
            "After  \t ADP \t 13428508259213873547 \t after\n",
            "running  \t VERB \t 12767647472892411841 \t run\n",
            "I  \t PRON \t 4690420944186131903 \t I\n",
            "do  \t VERB \t 2158845516055552166 \t do\n",
            "some  \t DET \t 7000492816108906599 \t some\n",
            "yoga  \t NOUN \t 6756860817772158373 \t yoga\n",
            "as  \t ADV \t 7437575085468336610 \t as\n",
            "well  \t ADV \t 4525988469032889948 \t well\n",
            ".  \t PUNCT \t 12646065887601541794 \t .\n"
          ]
        }
      ]
    },
    {
      "cell_type": "code",
      "source": [
        "def lemma(text):\n",
        "\n",
        "    for token in text:\n",
        "        print(f'{token.text:{12}} {token.pos_:{6}} {token.lemma:<{22}}\\\n",
        "        {token.lemma_}')\n",
        "\n",
        "lemma(doc1)"
      ],
      "metadata": {
        "colab": {
          "base_uri": "https://localhost:8080/"
        },
        "id": "pKDQN8Tj2lSI",
        "outputId": "0abbb4eb-0545-4112-9005-05d8177b569f"
      },
      "execution_count": 15,
      "outputs": [
        {
          "output_type": "stream",
          "name": "stdout",
          "text": [
            "To           PART   3791531372978436496           to\n",
            "get          VERB   2013399242189103424           get\n",
            "more         ADV    2160362229054775535           more\n",
            "healthy      ADJ    5379644128261274187           healthy\n",
            "body         NOUN   12275956947298454125          body\n",
            "I            PRON   4690420944186131903           I\n",
            "do           AUX    2158845516055552166           do\n",
            "running      VERB   12767647472892411841          run\n",
            "and          CCONJ  2283656566040971221           and\n",
            "walking      VERB   1674876016505392235           walk\n",
            ".            PUNCT  12646065887601541794          .\n",
            "After        ADP    13428508259213873547          after\n",
            "running      VERB   12767647472892411841          run\n",
            "I            PRON   4690420944186131903           I\n",
            "do           VERB   2158845516055552166           do\n",
            "some         DET    7000492816108906599           some\n",
            "yoga         NOUN   6756860817772158373           yoga\n",
            "as           ADV    7437575085468336610           as\n",
            "well         ADV    4525988469032889948           well\n",
            ".            PUNCT  12646065887601541794          .\n"
          ]
        }
      ]
    },
    {
      "cell_type": "code",
      "source": [
        "doc2 =nlp(u'Artificial Intelligence (AI) enables machines to mimic human cognitive functions like learning, reasoning, and problem-solving. It powers applications such as voice assistants, autonomous vehicles, and data analytics. AI is transforming industries by automating tasks and providing intelligent insights.')\n"
      ],
      "metadata": {
        "id": "SrzLVpMg2lVO"
      },
      "execution_count": 18,
      "outputs": []
    },
    {
      "cell_type": "code",
      "source": [
        "lemma(doc2)"
      ],
      "metadata": {
        "colab": {
          "base_uri": "https://localhost:8080/"
        },
        "id": "6Dn2xEGC2lYB",
        "outputId": "eff2c9be-7a13-440e-9c73-f212a3e92b6b"
      },
      "execution_count": 19,
      "outputs": [
        {
          "output_type": "stream",
          "name": "stdout",
          "text": [
            "Artificial   PROPN  6055699347906093817           Artificial\n",
            "Intelligence PROPN  9808343991309517954           Intelligence\n",
            "(            PUNCT  12638816674900267446          (\n",
            "AI           PROPN  5530044837203964789           AI\n",
            ")            PUNCT  3842344029291005339           )\n",
            "enables      VERB   1080083029942854337           enable\n",
            "machines     NOUN   1826470356240629538           machine\n",
            "to           PART   3791531372978436496           to\n",
            "mimic        VERB   2520723944239179494           mimic\n",
            "human        ADJ    5674190450704392893           human\n",
            "cognitive    ADJ    16654971456144141498          cognitive\n",
            "functions    NOUN   598416036538124536            function\n",
            "like         ADP    18194338103975822726          like\n",
            "learning     NOUN   7342778914265824300           learning\n",
            ",            PUNCT  2593208677638477497           ,\n",
            "reasoning    NOUN   7174139258353040852           reasoning\n",
            ",            PUNCT  2593208677638477497           ,\n",
            "and          CCONJ  2283656566040971221           and\n",
            "problem      NOUN   4473158105997569131           problem\n",
            "-            PUNCT  9153284864653046197           -\n",
            "solving      NOUN   11720182318694278476          solving\n",
            ".            PUNCT  12646065887601541794          .\n",
            "It           PRON   10239237003504588839          it\n",
            "powers       VERB   10405720708504167118          power\n",
            "applications NOUN   10482388013215715563          application\n",
            "such         ADJ    13040105543478938413          such\n",
            "as           ADP    7437575085468336610           as\n",
            "voice        NOUN   257396040179354343            voice\n",
            "assistants   NOUN   14892256268761836148          assistant\n",
            ",            PUNCT  2593208677638477497           ,\n",
            "autonomous   ADJ    9558915150818865765           autonomous\n",
            "vehicles     NOUN   854351138829791262            vehicle\n",
            ",            PUNCT  2593208677638477497           ,\n",
            "and          CCONJ  2283656566040971221           and\n",
            "data         NOUN   6645506661261177361           data\n",
            "analytics    NOUN   11456791483486214537          analytic\n",
            ".            PUNCT  12646065887601541794          .\n",
            "AI           PROPN  5530044837203964789           AI\n",
            "is           AUX    10382539506755952630          be\n",
            "transforming VERB   8180359741758949954           transform\n",
            "industries   NOUN   16409696763006672153          industry\n",
            "by           ADP    16764210730586636600          by\n",
            "automating   VERB   1159511254368363387           automate\n",
            "tasks        NOUN   1048061966900118739           task\n",
            "and          CCONJ  2283656566040971221           and\n",
            "providing    VERB   3805418597433244348           provide\n",
            "intelligent  ADJ    16447891192837240860          intelligent\n",
            "insights     NOUN   14518131522835660406          insight\n",
            ".            PUNCT  12646065887601541794          .\n"
          ]
        }
      ]
    }
  ]
}