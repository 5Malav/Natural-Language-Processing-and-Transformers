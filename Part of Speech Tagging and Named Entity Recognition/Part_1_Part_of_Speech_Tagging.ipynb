{
  "nbformat": 4,
  "nbformat_minor": 0,
  "metadata": {
    "colab": {
      "provenance": []
    },
    "kernelspec": {
      "name": "python3",
      "display_name": "Python 3"
    },
    "language_info": {
      "name": "python"
    }
  },
  "cells": [
    {
      "cell_type": "markdown",
      "source": [
        "# Part of Speech Tagging"
      ],
      "metadata": {
        "id": "fwQLxx-f9G1h"
      }
    },
    {
      "cell_type": "code",
      "source": [
        "\"\"\"\n",
        "It's important to understand that most words themselves are actually\n",
        "rare in occurrence inside of the context of an entire document.\n",
        "\n",
        "And it's common for words that look completely different\n",
        "to mean almost the same thing.\n",
        "\n",
        "And the same words in a different order can actually then end up\n",
        "meaning something completely different.\n",
        "\n",
        "So really there's a lot of nuance to the way that words are being used\n",
        "and that is why we also need to look at the part of speech that word\n",
        "is being used in, not just the word itself.\n",
        "\n",
        "Even Splitting text into useful word like units like tokenization\n",
        "that itself can be difficult in many languages.\n",
        "\n",
        "And while it's possible to solve some problems starting from only the\n",
        "raw characters or those raw tokens it's usually better to use linguistic\n",
        "knowledge to add useful information.\n",
        "\n",
        "TO know if you mean a noun vs. a verb vs. an adjective\n",
        "\n",
        "That part of speech information is really crucial to taking our NLP\n",
        "to the next level.\n",
        "\n",
        "SO what spaCy can do is: Put in raw text and get back a Doc object that\n",
        "comes with a variety of annotations.\n",
        "\n",
        "Part of Speech Tags:- noun, verb, adjective\n",
        "\n",
        "fine-grained tags:- plural noun, past-tense verb, superlative adjective\n",
        "\n",
        "\"\"\"\n"
      ],
      "metadata": {
        "colab": {
          "base_uri": "https://localhost:8080/",
          "height": 192
        },
        "id": "iOfXNSUR9FW_",
        "outputId": "5f7a0066-3493-4cc5-daba-421f86a465db"
      },
      "execution_count": 92,
      "outputs": [
        {
          "output_type": "execute_result",
          "data": {
            "text/plain": [
              "\"\\nIt's important to understand that most words themselves are actually\\nrare in occurrence inside of the context of an entire document.\\n\\nAnd it's common for words that look completely different \\nto mean almost the same thing.\\n\\nAnd the same words in a different order can actually then end up\\nmeaning something completely different.\\n\\nSo really there's a lot of nuance to the way that words are being used\\nand that is why we also need to look at the part of speech that word\\nis being used in, not just the word itself.\\n\\nEven Splitting text into useful word like units like tokenization\\nthat itself can be difficult in many languages.\\n\\nAnd while it's possible to solve some problems starting from only the\\nraw characters or those raw tokens it's usually better to use linguistic\\nknowledge to add useful information.\\n\\nTO know if you mean a noun vs. a verb vs. an adjective\\n\\nThat part of speech information is really crucial to taking our NLP\\nto the next level.\\n\\nSO what spaCy can do is: Put in raw text and get back a Doc object that\\ncomes with a variety of annotations.\\n\\nPart of Speech Tags:- noun, verb, adjective\\n\\nfine-grained tags:- plural noun, past-tense verb, superlative adjective\\n\\n\""
            ],
            "application/vnd.google.colaboratory.intrinsic+json": {
              "type": "string"
            }
          },
          "metadata": {},
          "execution_count": 92
        }
      ]
    },
    {
      "cell_type": "markdown",
      "source": [
        "## Coarse-grained Part-of-speech Tags\n",
        "Every token is assigned a POS Tag from the following list:\n",
        "\n",
        "\n",
        "<table><tr><th>POS</th><th>DESCRIPTION</th><th>EXAMPLES</th></tr>\n",
        "    \n",
        "<tr><td>ADJ</td><td>adjective</td><td>*big, old, green, incomprehensible, first*</td></tr>\n",
        "<tr><td>ADP</td><td>adposition</td><td>*in, to, during*</td></tr>\n",
        "<tr><td>ADV</td><td>adverb</td><td>*very, tomorrow, down, where, there*</td></tr>\n",
        "<tr><td>AUX</td><td>auxiliary</td><td>*is, has (done), will (do), should (do)*</td></tr>\n",
        "<tr><td>CONJ</td><td>conjunction</td><td>*and, or, but*</td></tr>\n",
        "<tr><td>CCONJ</td><td>coordinating conjunction</td><td>*and, or, but*</td></tr>\n",
        "<tr><td>DET</td><td>determiner</td><td>*a, an, the*</td></tr>\n",
        "<tr><td>INTJ</td><td>interjection</td><td>*psst, ouch, bravo, hello*</td></tr>\n",
        "<tr><td>NOUN</td><td>noun</td><td>*girl, cat, tree, air, beauty*</td></tr>\n",
        "<tr><td>NUM</td><td>numeral</td><td>*1, 2017, one, seventy-seven, IV, MMXIV*</td></tr>\n",
        "<tr><td>PART</td><td>particle</td><td>*'s, not,*</td></tr>\n",
        "<tr><td>PRON</td><td>pronoun</td><td>*I, you, he, she, myself, themselves, somebody*</td></tr>\n",
        "<tr><td>PROPN</td><td>proper noun</td><td>*Mary, John, London, NATO, HBO*</td></tr>\n",
        "<tr><td>PUNCT</td><td>punctuation</td><td>*., (, ), ?*</td></tr>\n",
        "<tr><td>SCONJ</td><td>subordinating conjunction</td><td>*if, while, that*</td></tr>\n",
        "<tr><td>SYM</td><td>symbol</td><td>*$, %, §, ©, +, −, ×, ÷, =, :), 😝*</td></tr>\n",
        "<tr><td>VERB</td><td>verb</td><td>*run, runs, running, eat, ate, eating*</td></tr>\n",
        "<tr><td>X</td><td>other</td><td>*sfpksdpsxmsa*</td></tr>\n",
        "<tr><td>SPACE</td><td>space</td></tr>"
      ],
      "metadata": {
        "id": "C-0WZENaJBc8"
      }
    },
    {
      "cell_type": "markdown",
      "source": [
        "___\n",
        "## Fine-grained Part-of-speech Tags\n",
        "Tokens are subsequently given a fine-grained tag as determined by morphology:\n",
        "<table>\n",
        "<tr><th>POS</th><th>Description</th><th>Fine-grained Tag</th><th>Description</th><th>Morphology</th></tr>\n",
        "<tr><td>ADJ</td><td>adjective</td><td>AFX</td><td>affix</td><td>Hyph=yes</td></tr>\n",
        "<tr><td>ADJ</td><td></td><td>JJ</td><td>adjective</td><td>Degree=pos</td></tr>\n",
        "<tr><td>ADJ</td><td></td><td>JJR</td><td>adjective, comparative</td><td>Degree=comp</td></tr>\n",
        "<tr><td>ADJ</td><td></td><td>JJS</td><td>adjective, superlative</td><td>Degree=sup</td></tr>\n",
        "<tr><td>ADJ</td><td></td><td>PDT</td><td>predeterminer</td><td>AdjType=pdt PronType=prn</td></tr>\n",
        "<tr><td>ADJ</td><td></td><td>PRP\\$</td><td>pronoun, possessive</td><td>PronType=prs Poss=yes</td></tr>\n",
        "<tr><td>ADJ</td><td></td><td>WDT</td><td>wh-determiner</td><td>PronType=int rel</td></tr>\n",
        "<tr><td>ADJ</td><td></td><td>WP\\$</td><td>wh-pronoun, possessive</td><td>Poss=yes PronType=int rel</td></tr>\n",
        "<tr><td>ADP</td><td>adposition</td><td>IN</td><td>conjunction, subordinating or preposition</td><td></td></tr>\n",
        "<tr><td>ADV</td><td>adverb</td><td>EX</td><td>existential there</td><td>AdvType=ex</td></tr>\n",
        "<tr><td>ADV</td><td></td><td>RB</td><td>adverb</td><td>Degree=pos</td></tr>\n",
        "<tr><td>ADV</td><td></td><td>RBR</td><td>adverb, comparative</td><td>Degree=comp</td></tr>\n",
        "<tr><td>ADV</td><td></td><td>RBS</td><td>adverb, superlative</td><td>Degree=sup</td></tr>\n",
        "<tr><td>ADV</td><td></td><td>WRB</td><td>wh-adverb</td><td>PronType=int rel</td></tr>\n",
        "<tr><td>CONJ</td><td>conjunction</td><td>CC</td><td>conjunction, coordinating</td><td>ConjType=coor</td></tr>\n",
        "<tr><td>DET</td><td>determiner</td><td>DT</td><td>determiner</td><td></td></tr>\n",
        "<tr><td>INTJ</td><td>interjection</td><td>UH</td><td>interjection</td><td></td></tr>\n",
        "<tr><td>NOUN</td><td>noun</td><td>NN</td><td>noun, singular or mass</td><td>Number=sing</td></tr>\n",
        "<tr><td>NOUN</td><td></td><td>NNS</td><td>noun, plural</td><td>Number=plur</td></tr>\n",
        "<tr><td>NOUN</td><td></td><td>WP</td><td>wh-pronoun, personal</td><td>PronType=int rel</td></tr>\n",
        "<tr><td>NUM</td><td>numeral</td><td>CD</td><td>cardinal number</td><td>NumType=card</td></tr>\n",
        "<tr><td>PART</td><td>particle</td><td>POS</td><td>possessive ending</td><td>Poss=yes</td></tr>\n",
        "<tr><td>PART</td><td></td><td>RP</td><td>adverb, particle</td><td></td></tr>\n",
        "<tr><td>PART</td><td></td><td>TO</td><td>infinitival to</td><td>PartType=inf VerbForm=inf</td></tr>\n",
        "<tr><td>PRON</td><td>pronoun</td><td>PRP</td><td>pronoun, personal</td><td>PronType=prs</td></tr>\n",
        "<tr><td>PROPN</td><td>proper noun</td><td>NNP</td><td>noun, proper singular</td><td>NounType=prop Number=sign</td></tr>\n",
        "<tr><td>PROPN</td><td></td><td>NNPS</td><td>noun, proper plural</td><td>NounType=prop Number=plur</td></tr>\n",
        "<tr><td>PUNCT</td><td>punctuation</td><td>-LRB-</td><td>left round bracket</td><td>PunctType=brck PunctSide=ini</td></tr>\n",
        "<tr><td>PUNCT</td><td></td><td>-RRB-</td><td>right round bracket</td><td>PunctType=brck PunctSide=fin</td></tr>\n",
        "<tr><td>PUNCT</td><td></td><td>,</td><td>punctuation mark, comma</td><td>PunctType=comm</td></tr>\n",
        "<tr><td>PUNCT</td><td></td><td>:</td><td>punctuation mark, colon or ellipsis</td><td></td></tr>\n",
        "<tr><td>PUNCT</td><td></td><td>.</td><td>punctuation mark, sentence closer</td><td>PunctType=peri</td></tr>\n",
        "<tr><td>PUNCT</td><td></td><td>''</td><td>closing quotation mark</td><td>PunctType=quot PunctSide=fin</td></tr>\n",
        "<tr><td>PUNCT</td><td></td><td>\"\"</td><td>closing quotation mark</td><td>PunctType=quot PunctSide=fin</td></tr>\n",
        "<tr><td>PUNCT</td><td></td><td>``</td><td>opening quotation mark</td><td>PunctType=quot PunctSide=ini</td></tr>\n",
        "<tr><td>PUNCT</td><td></td><td>HYPH</td><td>punctuation mark, hyphen</td><td>PunctType=dash</td></tr>\n",
        "<tr><td>PUNCT</td><td></td><td>LS</td><td>list item marker</td><td>NumType=ord</td></tr>\n",
        "<tr><td>PUNCT</td><td></td><td>NFP</td><td>superfluous punctuation</td><td></td></tr>\n",
        "<tr><td>SYM</td><td>symbol</td><td>#</td><td>symbol, number sign</td><td>SymType=numbersign</td></tr>\n",
        "<tr><td>SYM</td><td></td><td>\\$</td><td>symbol, currency</td><td>SymType=currency</td></tr>\n",
        "<tr><td>SYM</td><td></td><td>SYM</td><td>symbol</td><td></td></tr>\n",
        "<tr><td>VERB</td><td>verb</td><td>BES</td><td>auxiliary \"be\"</td><td></td></tr>\n",
        "<tr><td>VERB</td><td></td><td>HVS</td><td>forms of \"have\"</td><td></td></tr>\n",
        "<tr><td>VERB</td><td></td><td>MD</td><td>verb, modal auxiliary</td><td>VerbType=mod</td></tr>\n",
        "<tr><td>VERB</td><td></td><td>VB</td><td>verb, base form</td><td>VerbForm=inf</td></tr>\n",
        "<tr><td>VERB</td><td></td><td>VBD</td><td>verb, past tense</td><td>VerbForm=fin Tense=past</td></tr>\n",
        "<tr><td>VERB</td><td></td><td>VBG</td><td>verb, gerund or present participle</td><td>VerbForm=part Tense=pres Aspect=prog</td></tr>\n",
        "<tr><td>VERB</td><td></td><td>VBN</td><td>verb, past participle</td><td>VerbForm=part Tense=past Aspect=perf</td></tr>\n",
        "<tr><td>VERB</td><td></td><td>VBP</td><td>verb, non-3rd person singular present</td><td>VerbForm=fin Tense=pres</td></tr>\n",
        "<tr><td>VERB</td><td></td><td>VBZ</td><td>verb, 3rd person singular present</td><td>VerbForm=fin Tense=pres Number=sing Person=3</td></tr>\n",
        "<tr><td>X</td><td>other</td><td>ADD</td><td>email</td><td></td></tr>\n",
        "<tr><td>X</td><td></td><td>FW</td><td>foreign word</td><td>Foreign=yes</td></tr>\n",
        "<tr><td>X</td><td></td><td>GW</td><td>additional word in multi-word expression</td><td></td></tr>\n",
        "<tr><td>X</td><td></td><td>XX</td><td>unknown</td><td></td></tr>\n",
        "<tr><td>SPACE</td><td>space</td><td>_SP</td><td>space</td><td></td></tr>\n",
        "<tr><td></td><td></td><td>NIL</td><td>missing tag</td><td></td></tr>\n",
        "</table>"
      ],
      "metadata": {
        "id": "YAmhKWxuJE9W"
      }
    },
    {
      "cell_type": "markdown",
      "source": [
        "___\n",
        "## Fine-grained POS Tag Examples\n",
        "These are some grammatical examples (shown in **bold**) of specific fine-grained tags. We've removed punctuation and rarely used tags:\n",
        "<table>\n",
        "<tr><th>POS</th><th>TAG</th><th>DESCRIPTION</th><th>EXAMPLE</th></tr>\n",
        "<tr><td>ADJ</td><td>AFX</td><td>affix</td><td>The Flintstones were a **pre**-historic family.</td></tr>\n",
        "<tr><td>ADJ</td><td>JJ</td><td>adjective</td><td>This is a **good** sentence.</td></tr>\n",
        "<tr><td>ADJ</td><td>JJR</td><td>adjective, comparative</td><td>This is a **better** sentence.</td></tr>\n",
        "<tr><td>ADJ</td><td>JJS</td><td>adjective, superlative</td><td>This is the **best** sentence.</td></tr>\n",
        "<tr><td>ADJ</td><td>PDT</td><td>predeterminer</td><td>Waking up is **half** the battle.</td></tr>\n",
        "<tr><td>ADJ</td><td>PRP\\$</td><td>pronoun, possessive</td><td>**His** arm hurts.</td></tr>\n",
        "<tr><td>ADJ</td><td>WDT</td><td>wh-determiner</td><td>It's blue, **which** is odd.</td></tr>\n",
        "<tr><td>ADJ</td><td>WP\\$</td><td>wh-pronoun, possessive</td><td>We don't know **whose** it is.</td></tr>\n",
        "<tr><td>ADP</td><td>IN</td><td>conjunction, subordinating or preposition</td><td>It arrived **in** a box.</td></tr>\n",
        "<tr><td>ADV</td><td>EX</td><td>existential there</td><td>**There** is cake.</td></tr>\n",
        "<tr><td>ADV</td><td>RB</td><td>adverb</td><td>He ran **quickly**.</td></tr>\n",
        "<tr><td>ADV</td><td>RBR</td><td>adverb, comparative</td><td>He ran **quicker**.</td></tr>\n",
        "<tr><td>ADV</td><td>RBS</td><td>adverb, superlative</td><td>He ran **fastest**.</td></tr>\n",
        "<tr><td>ADV</td><td>WRB</td><td>wh-adverb</td><td>**When** was that?</td></tr>\n",
        "<tr><td>CONJ</td><td>CC</td><td>conjunction, coordinating</td><td>The balloon popped **and** everyone jumped.</td></tr>\n",
        "<tr><td>DET</td><td>DT</td><td>determiner</td><td>**This** is **a** sentence.</td></tr>\n",
        "<tr><td>INTJ</td><td>UH</td><td>interjection</td><td>**Um**, I don't know.</td></tr>\n",
        "<tr><td>NOUN</td><td>NN</td><td>noun, singular or mass</td><td>This is a **sentence**.</td></tr>\n",
        "<tr><td>NOUN</td><td>NNS</td><td>noun, plural</td><td>These are **words**.</td></tr>\n",
        "<tr><td>NOUN</td><td>WP</td><td>wh-pronoun, personal</td><td>**Who** was that?</td></tr>\n",
        "<tr><td>NUM</td><td>CD</td><td>cardinal number</td><td>I want **three** things.</td></tr>\n",
        "<tr><td>PART</td><td>POS</td><td>possessive ending</td><td>Fred**'s** name is short.</td></tr>\n",
        "<tr><td>PART</td><td>RP</td><td>adverb, particle</td><td>Put it **back**!</td></tr>\n",
        "<tr><td>PART</td><td>TO</td><td>infinitival to</td><td>I want **to** go.</td></tr>\n",
        "<tr><td>PRON</td><td>PRP</td><td>pronoun, personal</td><td>**I** want **you** to go.</td></tr>\n",
        "<tr><td>PROPN</td><td>NNP</td><td>noun, proper singular</td><td>**Kilroy** was here.</td></tr>\n",
        "<tr><td>PROPN</td><td>NNPS</td><td>noun, proper plural</td><td>The **Flintstones** were a pre-historic family.</td></tr>\n",
        "<tr><td>VERB</td><td>MD</td><td>verb, modal auxiliary</td><td>This **could** work.</td></tr>\n",
        "<tr><td>VERB</td><td>VB</td><td>verb, base form</td><td>I want to **go**.</td></tr>\n",
        "<tr><td>VERB</td><td>VBD</td><td>verb, past tense</td><td>This **was** a sentence.</td></tr>\n",
        "<tr><td>VERB</td><td>VBG</td><td>verb, gerund or present participle</td><td>I am **going**.</td></tr>\n",
        "<tr><td>VERB</td><td>VBN</td><td>verb, past participle</td><td>The treasure was **lost**.</td></tr>\n",
        "<tr><td>VERB</td><td>VBP</td><td>verb, non-3rd person singular present</td><td>I **want** to go.</td></tr>\n",
        "<tr><td>VERB</td><td>VBZ</td><td>verb, 3rd person singular present</td><td>He **wants** to go.</td></tr>\n",
        "</table>"
      ],
      "metadata": {
        "id": "SeZ2QnSLJKlK"
      }
    },
    {
      "cell_type": "markdown",
      "source": [
        "## View token tags\n",
        "Recall that you can obtain a particular token by its index position.\n",
        "* To view the coarse POS tag use `token.pos_`\n",
        "* To view the fine-grained tag use `token.tag_`\n",
        "* To view the description of either type of tag use `spacy.explain(tag)`\n",
        "\n",
        "<div class=\"alert alert-success\">Note that `token.pos` and `token.tag` return integer hash values; by adding the underscores we get the text equivalent that lives in **doc.vocab**.</div>"
      ],
      "metadata": {
        "id": "pnlXVp20JQ6E"
      }
    },
    {
      "cell_type": "code",
      "source": [
        "import spacy"
      ],
      "metadata": {
        "id": "sP_tGLIQ9FVu"
      },
      "execution_count": 93,
      "outputs": []
    },
    {
      "cell_type": "code",
      "source": [
        "nlp = spacy.load('en_core_web_sm')"
      ],
      "metadata": {
        "id": "L3tlGLe59FUA"
      },
      "execution_count": 94,
      "outputs": []
    },
    {
      "cell_type": "code",
      "source": [
        "doc = nlp(u'The quick round fox jumped over the lazy dog\"s back.')"
      ],
      "metadata": {
        "id": "J-7qKZkP9FSc"
      },
      "execution_count": 95,
      "outputs": []
    },
    {
      "cell_type": "code",
      "source": [
        "print(doc.text)"
      ],
      "metadata": {
        "colab": {
          "base_uri": "https://localhost:8080/"
        },
        "id": "mIRXsBkF9FQ1",
        "outputId": "73bb0912-351a-4930-fb19-122be1437df4"
      },
      "execution_count": 96,
      "outputs": [
        {
          "output_type": "stream",
          "name": "stdout",
          "text": [
            "The quick round fox jumped over the lazy dog\"s back.\n"
          ]
        }
      ]
    },
    {
      "cell_type": "code",
      "source": [
        "print(doc[3])"
      ],
      "metadata": {
        "colab": {
          "base_uri": "https://localhost:8080/"
        },
        "id": "4i2p9WPH9FMj",
        "outputId": "20344ed1-68ff-4ee0-9e41-73c3b0277483"
      },
      "execution_count": 97,
      "outputs": [
        {
          "output_type": "stream",
          "name": "stdout",
          "text": [
            "fox\n"
          ]
        }
      ]
    },
    {
      "cell_type": "code",
      "source": [
        "print(doc[3].pos_)"
      ],
      "metadata": {
        "colab": {
          "base_uri": "https://localhost:8080/"
        },
        "id": "gmSIGeJ59FKG",
        "outputId": "ce083282-912d-4673-9cc2-054c735465dc"
      },
      "execution_count": 98,
      "outputs": [
        {
          "output_type": "stream",
          "name": "stdout",
          "text": [
            "NOUN\n"
          ]
        }
      ]
    },
    {
      "cell_type": "code",
      "source": [
        "print(doc[3].pos)\n",
        "\n",
        "# without _ it will provide numerical id for that particular tag"
      ],
      "metadata": {
        "colab": {
          "base_uri": "https://localhost:8080/"
        },
        "id": "MENksDj61Nah",
        "outputId": "0fb35fff-a095-4155-c955-27bf4040cc48"
      },
      "execution_count": 99,
      "outputs": [
        {
          "output_type": "stream",
          "name": "stdout",
          "text": [
            "92\n"
          ]
        }
      ]
    },
    {
      "cell_type": "code",
      "source": [
        "print(doc[3].tag_)"
      ],
      "metadata": {
        "colab": {
          "base_uri": "https://localhost:8080/"
        },
        "id": "WAFMmPXV9FHc",
        "outputId": "36098d78-275e-4470-b69c-567ea6fee413"
      },
      "execution_count": 100,
      "outputs": [
        {
          "output_type": "stream",
          "name": "stdout",
          "text": [
            "NN\n"
          ]
        }
      ]
    },
    {
      "cell_type": "code",
      "source": [
        "for token in doc:\n",
        "    print(f'{token.text:{10}} {token.pos_:{10}} {token.tag_:{10}} {spacy.explain(token.tag_)}')\n",
        "\n"
      ],
      "metadata": {
        "colab": {
          "base_uri": "https://localhost:8080/"
        },
        "id": "fKi_1fmc9FEc",
        "outputId": "dc579a65-e96d-4526-c39f-2bb72095978e"
      },
      "execution_count": 101,
      "outputs": [
        {
          "output_type": "stream",
          "name": "stdout",
          "text": [
            "The        DET        DT         determiner\n",
            "quick      ADJ        JJ         adjective (English), other noun-modifier (Chinese)\n",
            "round      ADJ        JJ         adjective (English), other noun-modifier (Chinese)\n",
            "fox        NOUN       NN         noun, singular or mass\n",
            "jumped     VERB       VBD        verb, past tense\n",
            "over       ADP        IN         conjunction, subordinating or preposition\n",
            "the        DET        DT         determiner\n",
            "lazy       ADJ        JJ         adjective (English), other noun-modifier (Chinese)\n",
            "dog\"s      NOUN       NN         noun, singular or mass\n",
            "back       ADV        RB         adverb\n",
            ".          PUNCT      .          punctuation mark, sentence closer\n"
          ]
        }
      ]
    },
    {
      "cell_type": "code",
      "source": [
        "doc1 =nlp(u\"I read books on NLP\")\n"
      ],
      "metadata": {
        "id": "8SwET4929FBd"
      },
      "execution_count": 102,
      "outputs": []
    },
    {
      "cell_type": "code",
      "source": [
        "word =doc1[1]\n",
        "word.text"
      ],
      "metadata": {
        "colab": {
          "base_uri": "https://localhost:8080/",
          "height": 35
        },
        "id": "zCDLlVUi9E9G",
        "outputId": "795e2180-1abc-4bfc-e446-5731562876cb"
      },
      "execution_count": 103,
      "outputs": [
        {
          "output_type": "execute_result",
          "data": {
            "text/plain": [
              "'read'"
            ],
            "application/vnd.google.colaboratory.intrinsic+json": {
              "type": "string"
            }
          },
          "metadata": {},
          "execution_count": 103
        }
      ]
    },
    {
      "cell_type": "code",
      "source": [
        "token = word\n",
        "print(f'{token.text:{10}} {token.pos_:{10}} {token.tag_:{10}} {spacy.explain(token.tag_)}')\n"
      ],
      "metadata": {
        "colab": {
          "base_uri": "https://localhost:8080/"
        },
        "id": "A459qnGZ9E6d",
        "outputId": "2f98ee9b-a607-4231-c6e2-5a935d8423f9"
      },
      "execution_count": 104,
      "outputs": [
        {
          "output_type": "stream",
          "name": "stdout",
          "text": [
            "read       VERB       VBP        verb, non-3rd person singular present\n"
          ]
        }
      ]
    },
    {
      "cell_type": "code",
      "source": [
        "doc2 =nlp(u\"I read a book on Natural language processing\")\n"
      ],
      "metadata": {
        "id": "x3EG7dJG9E4m"
      },
      "execution_count": 105,
      "outputs": []
    },
    {
      "cell_type": "code",
      "source": [
        "word =doc2[1]\n",
        "word.text"
      ],
      "metadata": {
        "colab": {
          "base_uri": "https://localhost:8080/",
          "height": 35
        },
        "id": "6dsTzjUH9E2c",
        "outputId": "7bb63fec-2b10-4036-d922-f1e1aaed8cec"
      },
      "execution_count": 106,
      "outputs": [
        {
          "output_type": "execute_result",
          "data": {
            "text/plain": [
              "'read'"
            ],
            "application/vnd.google.colaboratory.intrinsic+json": {
              "type": "string"
            }
          },
          "metadata": {},
          "execution_count": 106
        }
      ]
    },
    {
      "cell_type": "code",
      "source": [
        "token = word\n",
        "print(f'{token.text:{10}} {token.pos_:{10}} {token.tag_:{10}} {spacy.explain(token.tag_)}')\n"
      ],
      "metadata": {
        "colab": {
          "base_uri": "https://localhost:8080/"
        },
        "id": "ZWcfDF6p9Eyq",
        "outputId": "822f9e23-0892-43ee-aa87-8664eb1b2492"
      },
      "execution_count": 107,
      "outputs": [
        {
          "output_type": "stream",
          "name": "stdout",
          "text": [
            "read       VERB       VBD        verb, past tense\n"
          ]
        }
      ]
    },
    {
      "cell_type": "code",
      "source": [
        "# so from above example from doc1 and doc2\n",
        "# Spacy understood the meaning of books and book.\n",
        "#\n",
        "\n"
      ],
      "metadata": {
        "id": "9QQgtoi79Eu4"
      },
      "execution_count": 107,
      "outputs": []
    },
    {
      "cell_type": "code",
      "source": [
        "# Count part of speech tags.\n",
        "# count_by method\n"
      ],
      "metadata": {
        "id": "JRTvyYwG25Ti"
      },
      "execution_count": null,
      "outputs": []
    },
    {
      "cell_type": "code",
      "source": [
        "doc= nlp(u'The quick round fox jumped over the lazy dog\"s back.')"
      ],
      "metadata": {
        "id": "Sta8P-kR25QE"
      },
      "execution_count": 109,
      "outputs": []
    },
    {
      "cell_type": "code",
      "source": [
        "pos_counts = doc.count_by(spacy.attrs.POS)\n",
        "pos_counts\n",
        "\n",
        "# these number are part of speech code"
      ],
      "metadata": {
        "colab": {
          "base_uri": "https://localhost:8080/"
        },
        "id": "ieWWtyjX25Ma",
        "outputId": "7dfd46a8-0375-4238-8e60-7cb144642903"
      },
      "execution_count": 111,
      "outputs": [
        {
          "output_type": "execute_result",
          "data": {
            "text/plain": [
              "{90: 2, 84: 3, 92: 2, 100: 1, 85: 1, 86: 1, 97: 1}"
            ]
          },
          "metadata": {},
          "execution_count": 111
        }
      ]
    },
    {
      "cell_type": "code",
      "source": [
        "doc.vocab[84].text"
      ],
      "metadata": {
        "colab": {
          "base_uri": "https://localhost:8080/",
          "height": 35
        },
        "id": "u0UTREWX25IR",
        "outputId": "8df27068-2107-498d-ddaa-1c7da9273a5a"
      },
      "execution_count": 114,
      "outputs": [
        {
          "output_type": "execute_result",
          "data": {
            "text/plain": [
              "'ADJ'"
            ],
            "application/vnd.google.colaboratory.intrinsic+json": {
              "type": "string"
            }
          },
          "metadata": {},
          "execution_count": 114
        }
      ]
    },
    {
      "cell_type": "code",
      "source": [
        "doc[2].pos"
      ],
      "metadata": {
        "colab": {
          "base_uri": "https://localhost:8080/"
        },
        "id": "1yJWRrrO25Gh",
        "outputId": "4bcb72e3-4d68-4cf4-e422-8dd49e941e22"
      },
      "execution_count": 115,
      "outputs": [
        {
          "output_type": "execute_result",
          "data": {
            "text/plain": [
              "84"
            ]
          },
          "metadata": {},
          "execution_count": 115
        }
      ]
    },
    {
      "cell_type": "code",
      "source": [
        "doc[3].pos"
      ],
      "metadata": {
        "colab": {
          "base_uri": "https://localhost:8080/"
        },
        "id": "nFMdzbKJ25Ey",
        "outputId": "b0b6b3ec-d312-48f6-dc48-ea26ad414786"
      },
      "execution_count": 116,
      "outputs": [
        {
          "output_type": "execute_result",
          "data": {
            "text/plain": [
              "92"
            ]
          },
          "metadata": {},
          "execution_count": 116
        }
      ]
    },
    {
      "cell_type": "code",
      "source": [
        "for k,v in sorted(pos_counts.items()):\n",
        "    print(f'{k}.{doc.vocab[k].text:{8}} {v}')\n",
        "\n"
      ],
      "metadata": {
        "colab": {
          "base_uri": "https://localhost:8080/"
        },
        "id": "z6cOSP2j25BJ",
        "outputId": "05a531b9-9420-4f4b-b3f0-424f05df60cc"
      },
      "execution_count": 119,
      "outputs": [
        {
          "output_type": "stream",
          "name": "stdout",
          "text": [
            "84.ADJ     3\n",
            "85.ADP     1\n",
            "86.ADV     1\n",
            "90.DET     2\n",
            "92.NOUN    2\n",
            "97.PUNCT   1\n",
            "100.VERB    1\n"
          ]
        }
      ]
    },
    {
      "cell_type": "code",
      "source": [
        "tag_counts=doc.count_by(spacy.attrs.TAG)\n",
        "\n",
        "for k,v in sorted(tag_counts.items()):\n",
        "    print(f'{k}.{doc.vocab[k].text:{8}} {v}')"
      ],
      "metadata": {
        "colab": {
          "base_uri": "https://localhost:8080/"
        },
        "id": "e5sDkECD249c",
        "outputId": "baa1b365-ff51-4e91-ef58-028126f4863b"
      },
      "execution_count": 122,
      "outputs": [
        {
          "output_type": "stream",
          "name": "stdout",
          "text": [
            "164681854541413346.RB       1\n",
            "1292078113972184607.IN       1\n",
            "10554686591937588953.JJ       3\n",
            "12646065887601541794..        1\n",
            "15267657372422890137.DT       2\n",
            "15308085513773655218.NN       2\n",
            "17109001835818727656.VBD      1\n"
          ]
        }
      ]
    },
    {
      "cell_type": "code",
      "source": [
        "# Now we can see that numbers from tag_counts are larger than pos_counts\n",
        "# the reason is that in spacy certain text values are hard coded into\n",
        "# the document vocab(doc.vocab)\n",
        "# and they take up the first several hundred ID numbers\n",
        "# so the most common ones are the ones that closer up in the list.\n",
        "# so things like nouns and punctuations those show up really commonly.\n",
        "# the one that don't get used they get pushed way further down.\n",
        "\n",
        "\n",
        "\n"
      ],
      "metadata": {
        "id": "hvL7wW0a247P"
      },
      "execution_count": 124,
      "outputs": []
    },
    {
      "cell_type": "code",
      "source": [
        "dep_counts=doc.count_by(spacy.attrs.DEP)\n",
        "# syntactic dependencies\n",
        "\n",
        "for k,v in sorted(dep_counts.items()):\n",
        "    print(f'{k}.{doc.vocab[k].text:{8}} {v}')"
      ],
      "metadata": {
        "colab": {
          "base_uri": "https://localhost:8080/"
        },
        "id": "Vuf5t5GA244v",
        "outputId": "c8d3d777-9cf3-480e-b81d-208ad55059bc"
      },
      "execution_count": 126,
      "outputs": [
        {
          "output_type": "stream",
          "name": "stdout",
          "text": [
            "400.advmod   1\n",
            "402.amod     3\n",
            "415.det      2\n",
            "429.nsubj    1\n",
            "439.pobj     1\n",
            "443.prep     1\n",
            "445.punct    1\n",
            "8206900633647566924.ROOT     1\n"
          ]
        }
      ]
    }
  ]
}